{
 "cells": [
  {
   "cell_type": "markdown",
   "id": "4c68417e",
   "metadata": {},
   "source": [
    "# Importing Necessary Libraries for Model Building:-"
   ]
  },
  {
   "cell_type": "code",
   "execution_count": 15,
   "id": "42e9467a",
   "metadata": {},
   "outputs": [],
   "source": [
    "import numpy as np\n",
    "\n",
    "import pandas as pd\n",
    "\n",
    "import sklearn\n",
    "\n",
    "import matplotlib.pyplot as plt\n",
    "\n",
    "import seaborn as sns\n",
    "\n",
    "from sklearn.linear_model import LogisticRegression\n",
    "\n",
    "from sklearn.model_selection import train_test_split\n",
    "\n",
    "from sklearn.metrics import accuracy_score,confusion_matrix,classification_report\n",
    "\n",
    "from sklearn.naive_bayes import GaussianNB\n",
    "\n",
    "from sklearn.preprocessing import LabelEncoder\n",
    "\n",
    "import warnings\n",
    "\n",
    "warnings.filterwarnings('ignore')"
   ]
  },
  {
   "cell_type": "markdown",
   "id": "fa8531f5",
   "metadata": {},
   "source": [
    "# Taking the Dataset for which model buliding is required:-"
   ]
  },
  {
   "cell_type": "code",
   "execution_count": 16,
   "id": "5f7808e7",
   "metadata": {},
   "outputs": [
    {
     "data": {
      "text/html": [
       "<div>\n",
       "<style scoped>\n",
       "    .dataframe tbody tr th:only-of-type {\n",
       "        vertical-align: middle;\n",
       "    }\n",
       "\n",
       "    .dataframe tbody tr th {\n",
       "        vertical-align: top;\n",
       "    }\n",
       "\n",
       "    .dataframe thead th {\n",
       "        text-align: right;\n",
       "    }\n",
       "</style>\n",
       "<table border=\"1\" class=\"dataframe\">\n",
       "  <thead>\n",
       "    <tr style=\"text-align: right;\">\n",
       "      <th></th>\n",
       "      <th>ID</th>\n",
       "      <th>age</th>\n",
       "      <th>job</th>\n",
       "      <th>marital</th>\n",
       "      <th>education</th>\n",
       "      <th>default</th>\n",
       "      <th>balance</th>\n",
       "      <th>housing</th>\n",
       "      <th>loan</th>\n",
       "      <th>contact</th>\n",
       "      <th>day</th>\n",
       "      <th>month</th>\n",
       "      <th>duration</th>\n",
       "      <th>campaign</th>\n",
       "      <th>pdays</th>\n",
       "      <th>previous</th>\n",
       "      <th>poutcome</th>\n",
       "      <th>subscribed</th>\n",
       "    </tr>\n",
       "  </thead>\n",
       "  <tbody>\n",
       "    <tr>\n",
       "      <th>0</th>\n",
       "      <td>26110</td>\n",
       "      <td>56</td>\n",
       "      <td>admin.</td>\n",
       "      <td>married</td>\n",
       "      <td>unknown</td>\n",
       "      <td>no</td>\n",
       "      <td>1933</td>\n",
       "      <td>no</td>\n",
       "      <td>no</td>\n",
       "      <td>telephone</td>\n",
       "      <td>19</td>\n",
       "      <td>nov</td>\n",
       "      <td>44</td>\n",
       "      <td>2</td>\n",
       "      <td>-1</td>\n",
       "      <td>0</td>\n",
       "      <td>unknown</td>\n",
       "      <td>no</td>\n",
       "    </tr>\n",
       "    <tr>\n",
       "      <th>1</th>\n",
       "      <td>40576</td>\n",
       "      <td>31</td>\n",
       "      <td>unknown</td>\n",
       "      <td>married</td>\n",
       "      <td>secondary</td>\n",
       "      <td>no</td>\n",
       "      <td>3</td>\n",
       "      <td>no</td>\n",
       "      <td>no</td>\n",
       "      <td>cellular</td>\n",
       "      <td>20</td>\n",
       "      <td>jul</td>\n",
       "      <td>91</td>\n",
       "      <td>2</td>\n",
       "      <td>-1</td>\n",
       "      <td>0</td>\n",
       "      <td>unknown</td>\n",
       "      <td>no</td>\n",
       "    </tr>\n",
       "    <tr>\n",
       "      <th>2</th>\n",
       "      <td>15320</td>\n",
       "      <td>27</td>\n",
       "      <td>services</td>\n",
       "      <td>married</td>\n",
       "      <td>secondary</td>\n",
       "      <td>no</td>\n",
       "      <td>891</td>\n",
       "      <td>yes</td>\n",
       "      <td>no</td>\n",
       "      <td>cellular</td>\n",
       "      <td>18</td>\n",
       "      <td>jul</td>\n",
       "      <td>240</td>\n",
       "      <td>1</td>\n",
       "      <td>-1</td>\n",
       "      <td>0</td>\n",
       "      <td>unknown</td>\n",
       "      <td>no</td>\n",
       "    </tr>\n",
       "    <tr>\n",
       "      <th>3</th>\n",
       "      <td>43962</td>\n",
       "      <td>57</td>\n",
       "      <td>management</td>\n",
       "      <td>divorced</td>\n",
       "      <td>tertiary</td>\n",
       "      <td>no</td>\n",
       "      <td>3287</td>\n",
       "      <td>no</td>\n",
       "      <td>no</td>\n",
       "      <td>cellular</td>\n",
       "      <td>22</td>\n",
       "      <td>jun</td>\n",
       "      <td>867</td>\n",
       "      <td>1</td>\n",
       "      <td>84</td>\n",
       "      <td>3</td>\n",
       "      <td>success</td>\n",
       "      <td>yes</td>\n",
       "    </tr>\n",
       "    <tr>\n",
       "      <th>4</th>\n",
       "      <td>29842</td>\n",
       "      <td>31</td>\n",
       "      <td>technician</td>\n",
       "      <td>married</td>\n",
       "      <td>secondary</td>\n",
       "      <td>no</td>\n",
       "      <td>119</td>\n",
       "      <td>yes</td>\n",
       "      <td>no</td>\n",
       "      <td>cellular</td>\n",
       "      <td>4</td>\n",
       "      <td>feb</td>\n",
       "      <td>380</td>\n",
       "      <td>1</td>\n",
       "      <td>-1</td>\n",
       "      <td>0</td>\n",
       "      <td>unknown</td>\n",
       "      <td>no</td>\n",
       "    </tr>\n",
       "    <tr>\n",
       "      <th>...</th>\n",
       "      <td>...</td>\n",
       "      <td>...</td>\n",
       "      <td>...</td>\n",
       "      <td>...</td>\n",
       "      <td>...</td>\n",
       "      <td>...</td>\n",
       "      <td>...</td>\n",
       "      <td>...</td>\n",
       "      <td>...</td>\n",
       "      <td>...</td>\n",
       "      <td>...</td>\n",
       "      <td>...</td>\n",
       "      <td>...</td>\n",
       "      <td>...</td>\n",
       "      <td>...</td>\n",
       "      <td>...</td>\n",
       "      <td>...</td>\n",
       "      <td>...</td>\n",
       "    </tr>\n",
       "    <tr>\n",
       "      <th>31642</th>\n",
       "      <td>36483</td>\n",
       "      <td>29</td>\n",
       "      <td>management</td>\n",
       "      <td>single</td>\n",
       "      <td>tertiary</td>\n",
       "      <td>no</td>\n",
       "      <td>0</td>\n",
       "      <td>yes</td>\n",
       "      <td>no</td>\n",
       "      <td>cellular</td>\n",
       "      <td>12</td>\n",
       "      <td>may</td>\n",
       "      <td>116</td>\n",
       "      <td>2</td>\n",
       "      <td>-1</td>\n",
       "      <td>0</td>\n",
       "      <td>unknown</td>\n",
       "      <td>no</td>\n",
       "    </tr>\n",
       "    <tr>\n",
       "      <th>31643</th>\n",
       "      <td>40178</td>\n",
       "      <td>53</td>\n",
       "      <td>management</td>\n",
       "      <td>divorced</td>\n",
       "      <td>tertiary</td>\n",
       "      <td>no</td>\n",
       "      <td>380</td>\n",
       "      <td>no</td>\n",
       "      <td>yes</td>\n",
       "      <td>cellular</td>\n",
       "      <td>5</td>\n",
       "      <td>jun</td>\n",
       "      <td>438</td>\n",
       "      <td>2</td>\n",
       "      <td>-1</td>\n",
       "      <td>0</td>\n",
       "      <td>unknown</td>\n",
       "      <td>yes</td>\n",
       "    </tr>\n",
       "    <tr>\n",
       "      <th>31644</th>\n",
       "      <td>19710</td>\n",
       "      <td>32</td>\n",
       "      <td>management</td>\n",
       "      <td>single</td>\n",
       "      <td>tertiary</td>\n",
       "      <td>no</td>\n",
       "      <td>312</td>\n",
       "      <td>no</td>\n",
       "      <td>no</td>\n",
       "      <td>cellular</td>\n",
       "      <td>7</td>\n",
       "      <td>aug</td>\n",
       "      <td>37</td>\n",
       "      <td>3</td>\n",
       "      <td>-1</td>\n",
       "      <td>0</td>\n",
       "      <td>unknown</td>\n",
       "      <td>no</td>\n",
       "    </tr>\n",
       "    <tr>\n",
       "      <th>31645</th>\n",
       "      <td>38556</td>\n",
       "      <td>57</td>\n",
       "      <td>technician</td>\n",
       "      <td>married</td>\n",
       "      <td>secondary</td>\n",
       "      <td>no</td>\n",
       "      <td>225</td>\n",
       "      <td>yes</td>\n",
       "      <td>no</td>\n",
       "      <td>telephone</td>\n",
       "      <td>15</td>\n",
       "      <td>may</td>\n",
       "      <td>22</td>\n",
       "      <td>7</td>\n",
       "      <td>337</td>\n",
       "      <td>12</td>\n",
       "      <td>failure</td>\n",
       "      <td>no</td>\n",
       "    </tr>\n",
       "    <tr>\n",
       "      <th>31646</th>\n",
       "      <td>14156</td>\n",
       "      <td>55</td>\n",
       "      <td>management</td>\n",
       "      <td>divorced</td>\n",
       "      <td>secondary</td>\n",
       "      <td>no</td>\n",
       "      <td>204</td>\n",
       "      <td>yes</td>\n",
       "      <td>no</td>\n",
       "      <td>cellular</td>\n",
       "      <td>11</td>\n",
       "      <td>jul</td>\n",
       "      <td>1973</td>\n",
       "      <td>2</td>\n",
       "      <td>-1</td>\n",
       "      <td>0</td>\n",
       "      <td>unknown</td>\n",
       "      <td>yes</td>\n",
       "    </tr>\n",
       "  </tbody>\n",
       "</table>\n",
       "<p>31647 rows × 18 columns</p>\n",
       "</div>"
      ],
      "text/plain": [
       "          ID  age         job   marital  education default  balance housing  \\\n",
       "0      26110   56      admin.   married    unknown      no     1933      no   \n",
       "1      40576   31     unknown   married  secondary      no        3      no   \n",
       "2      15320   27    services   married  secondary      no      891     yes   \n",
       "3      43962   57  management  divorced   tertiary      no     3287      no   \n",
       "4      29842   31  technician   married  secondary      no      119     yes   \n",
       "...      ...  ...         ...       ...        ...     ...      ...     ...   \n",
       "31642  36483   29  management    single   tertiary      no        0     yes   \n",
       "31643  40178   53  management  divorced   tertiary      no      380      no   \n",
       "31644  19710   32  management    single   tertiary      no      312      no   \n",
       "31645  38556   57  technician   married  secondary      no      225     yes   \n",
       "31646  14156   55  management  divorced  secondary      no      204     yes   \n",
       "\n",
       "      loan    contact  day month  duration  campaign  pdays  previous  \\\n",
       "0       no  telephone   19   nov        44         2     -1         0   \n",
       "1       no   cellular   20   jul        91         2     -1         0   \n",
       "2       no   cellular   18   jul       240         1     -1         0   \n",
       "3       no   cellular   22   jun       867         1     84         3   \n",
       "4       no   cellular    4   feb       380         1     -1         0   \n",
       "...    ...        ...  ...   ...       ...       ...    ...       ...   \n",
       "31642   no   cellular   12   may       116         2     -1         0   \n",
       "31643  yes   cellular    5   jun       438         2     -1         0   \n",
       "31644   no   cellular    7   aug        37         3     -1         0   \n",
       "31645   no  telephone   15   may        22         7    337        12   \n",
       "31646   no   cellular   11   jul      1973         2     -1         0   \n",
       "\n",
       "      poutcome subscribed  \n",
       "0      unknown         no  \n",
       "1      unknown         no  \n",
       "2      unknown         no  \n",
       "3      success        yes  \n",
       "4      unknown         no  \n",
       "...        ...        ...  \n",
       "31642  unknown         no  \n",
       "31643  unknown        yes  \n",
       "31644  unknown         no  \n",
       "31645  failure         no  \n",
       "31646  unknown        yes  \n",
       "\n",
       "[31647 rows x 18 columns]"
      ]
     },
     "execution_count": 16,
     "metadata": {},
     "output_type": "execute_result"
    }
   ],
   "source": [
    "df = pd.read_csv('https://raw.githubusercontent.com/dsrscientist/dataset5/main/termdeposit_train.csv')\n",
    "df"
   ]
  },
  {
   "cell_type": "code",
   "execution_count": 17,
   "id": "f95c55c1",
   "metadata": {},
   "outputs": [
    {
     "data": {
      "text/plain": [
       "(31647, 18)"
      ]
     },
     "execution_count": 17,
     "metadata": {},
     "output_type": "execute_result"
    }
   ],
   "source": [
    "#Checking the Dataset Shape\n",
    "\n",
    "df.shape"
   ]
  },
  {
   "cell_type": "code",
   "execution_count": 18,
   "id": "f0f4e8d5",
   "metadata": {},
   "outputs": [
    {
     "data": {
      "text/plain": [
       "ID            0\n",
       "age           0\n",
       "job           0\n",
       "marital       0\n",
       "education     0\n",
       "default       0\n",
       "balance       0\n",
       "housing       0\n",
       "loan          0\n",
       "contact       0\n",
       "day           0\n",
       "month         0\n",
       "duration      0\n",
       "campaign      0\n",
       "pdays         0\n",
       "previous      0\n",
       "poutcome      0\n",
       "subscribed    0\n",
       "dtype: int64"
      ]
     },
     "execution_count": 18,
     "metadata": {},
     "output_type": "execute_result"
    }
   ],
   "source": [
    "#Finding Null values in Dataset\n",
    "\n",
    "df.isnull().sum()"
   ]
  },
  {
   "cell_type": "code",
   "execution_count": 19,
   "id": "31ccc2a6",
   "metadata": {},
   "outputs": [
    {
     "data": {
      "text/plain": [
       "ID             int64\n",
       "age            int64\n",
       "job           object\n",
       "marital       object\n",
       "education     object\n",
       "default       object\n",
       "balance        int64\n",
       "housing       object\n",
       "loan          object\n",
       "contact       object\n",
       "day            int64\n",
       "month         object\n",
       "duration       int64\n",
       "campaign       int64\n",
       "pdays          int64\n",
       "previous       int64\n",
       "poutcome      object\n",
       "subscribed    object\n",
       "dtype: object"
      ]
     },
     "execution_count": 19,
     "metadata": {},
     "output_type": "execute_result"
    }
   ],
   "source": [
    "#Checking Type of data\n",
    "\n",
    "df.dtypes"
   ]
  },
  {
   "cell_type": "code",
   "execution_count": 20,
   "id": "38eb661a",
   "metadata": {},
   "outputs": [
    {
     "data": {
      "text/plain": [
       "ID           0.005851\n",
       "age          0.681607\n",
       "balance      7.995696\n",
       "day          0.087185\n",
       "duration     3.199766\n",
       "campaign     4.873935\n",
       "pdays        2.642374\n",
       "previous    49.302348\n",
       "dtype: float64"
      ]
     },
     "execution_count": 20,
     "metadata": {},
     "output_type": "execute_result"
    }
   ],
   "source": [
    "df.skew()"
   ]
  },
  {
   "cell_type": "code",
   "execution_count": 21,
   "id": "4a48db89",
   "metadata": {},
   "outputs": [
    {
     "data": {
      "text/plain": [
       "ID          0.005851\n",
       "age         0.681607\n",
       "balance     0.821075\n",
       "day         0.087185\n",
       "duration    0.017331\n",
       "campaign    0.230683\n",
       "pdays       2.642374\n",
       "previous    1.661485\n",
       "dtype: float64"
      ]
     },
     "execution_count": 21,
     "metadata": {},
     "output_type": "execute_result"
    }
   ],
   "source": [
    "from sklearn.preprocessing import PowerTransformer\n",
    "transform=PowerTransformer(method=\"yeo-johnson\")\n",
    "df['balance']=transform.fit_transform(df[['balance']].values)\n",
    "df['duration']=transform.fit_transform(df[['duration']].values)\n",
    "df['campaign']=transform.fit_transform(df[['campaign']].values)\n",
    "df['previous']=transform.fit_transform(df[['previous']].values)\n",
    "df.skew()\n"
   ]
  },
  {
   "cell_type": "code",
   "execution_count": 22,
   "id": "f5ccc1af",
   "metadata": {},
   "outputs": [
    {
     "data": {
      "text/plain": [
       "<AxesSubplot:ylabel='Count'>"
      ]
     },
     "execution_count": 22,
     "metadata": {},
     "output_type": "execute_result"
    },
    {
     "data": {
      "image/png": "[encoded data removed]",
      "text/plain": [
       "<Figure size 432x288 with 1 Axes>"
      ]
     },
     "metadata": {
      "needs_background": "light"
     },
     "output_type": "display_data"
    }
   ],
   "source": [
    "sns.histplot(df[['balance','duration','campaign','previous']])"
   ]
  },
  {
   "cell_type": "code",
   "execution_count": 23,
   "id": "4c49db88",
   "metadata": {},
   "outputs": [
    {
     "data": {
      "text/plain": [
       "ID            31647\n",
       "age              76\n",
       "job              12\n",
       "marital           3\n",
       "education         4\n",
       "default           2\n",
       "balance        6326\n",
       "housing           2\n",
       "loan              2\n",
       "contact           3\n",
       "day              31\n",
       "month            12\n",
       "duration       1454\n",
       "campaign         45\n",
       "pdays           509\n",
       "previous         38\n",
       "poutcome          4\n",
       "subscribed        2\n",
       "dtype: int64"
      ]
     },
     "execution_count": 23,
     "metadata": {},
     "output_type": "execute_result"
    }
   ],
   "source": [
    "df.nunique()"
   ]
  },
  {
   "cell_type": "markdown",
   "id": "dfbf73d8",
   "metadata": {},
   "source": [
    "# The ID,Age,Balance,Duration,Pdays show high no of unique values in order to get high accuracy in model we need to drop those columns"
   ]
  },
  {
   "cell_type": "code",
   "execution_count": 24,
   "id": "f36aef56",
   "metadata": {},
   "outputs": [
    {
     "data": {
      "text/html": [
       "<div>\n",
       "<style scoped>\n",
       "    .dataframe tbody tr th:only-of-type {\n",
       "        vertical-align: middle;\n",
       "    }\n",
       "\n",
       "    .dataframe tbody tr th {\n",
       "        vertical-align: top;\n",
       "    }\n",
       "\n",
       "    .dataframe thead th {\n",
       "        text-align: right;\n",
       "    }\n",
       "</style>\n",
       "<table border=\"1\" class=\"dataframe\">\n",
       "  <thead>\n",
       "    <tr style=\"text-align: right;\">\n",
       "      <th></th>\n",
       "      <th>job</th>\n",
       "      <th>marital</th>\n",
       "      <th>education</th>\n",
       "      <th>default</th>\n",
       "      <th>housing</th>\n",
       "      <th>loan</th>\n",
       "      <th>contact</th>\n",
       "      <th>day</th>\n",
       "      <th>month</th>\n",
       "      <th>campaign</th>\n",
       "      <th>previous</th>\n",
       "      <th>poutcome</th>\n",
       "      <th>subscribed</th>\n",
       "    </tr>\n",
       "  </thead>\n",
       "  <tbody>\n",
       "    <tr>\n",
       "      <th>0</th>\n",
       "      <td>admin.</td>\n",
       "      <td>married</td>\n",
       "      <td>unknown</td>\n",
       "      <td>no</td>\n",
       "      <td>no</td>\n",
       "      <td>no</td>\n",
       "      <td>telephone</td>\n",
       "      <td>19</td>\n",
       "      <td>nov</td>\n",
       "      <td>0.135025</td>\n",
       "      <td>-0.469673</td>\n",
       "      <td>unknown</td>\n",
       "      <td>no</td>\n",
       "    </tr>\n",
       "    <tr>\n",
       "      <th>1</th>\n",
       "      <td>unknown</td>\n",
       "      <td>married</td>\n",
       "      <td>secondary</td>\n",
       "      <td>no</td>\n",
       "      <td>no</td>\n",
       "      <td>no</td>\n",
       "      <td>cellular</td>\n",
       "      <td>20</td>\n",
       "      <td>jul</td>\n",
       "      <td>0.135025</td>\n",
       "      <td>-0.469673</td>\n",
       "      <td>unknown</td>\n",
       "      <td>no</td>\n",
       "    </tr>\n",
       "    <tr>\n",
       "      <th>2</th>\n",
       "      <td>services</td>\n",
       "      <td>married</td>\n",
       "      <td>secondary</td>\n",
       "      <td>no</td>\n",
       "      <td>yes</td>\n",
       "      <td>no</td>\n",
       "      <td>cellular</td>\n",
       "      <td>18</td>\n",
       "      <td>jul</td>\n",
       "      <td>-1.109239</td>\n",
       "      <td>-0.469673</td>\n",
       "      <td>unknown</td>\n",
       "      <td>no</td>\n",
       "    </tr>\n",
       "    <tr>\n",
       "      <th>3</th>\n",
       "      <td>management</td>\n",
       "      <td>divorced</td>\n",
       "      <td>tertiary</td>\n",
       "      <td>no</td>\n",
       "      <td>no</td>\n",
       "      <td>no</td>\n",
       "      <td>cellular</td>\n",
       "      <td>22</td>\n",
       "      <td>jun</td>\n",
       "      <td>-1.109239</td>\n",
       "      <td>2.177812</td>\n",
       "      <td>success</td>\n",
       "      <td>yes</td>\n",
       "    </tr>\n",
       "    <tr>\n",
       "      <th>4</th>\n",
       "      <td>technician</td>\n",
       "      <td>married</td>\n",
       "      <td>secondary</td>\n",
       "      <td>no</td>\n",
       "      <td>yes</td>\n",
       "      <td>no</td>\n",
       "      <td>cellular</td>\n",
       "      <td>4</td>\n",
       "      <td>feb</td>\n",
       "      <td>-1.109239</td>\n",
       "      <td>-0.469673</td>\n",
       "      <td>unknown</td>\n",
       "      <td>no</td>\n",
       "    </tr>\n",
       "    <tr>\n",
       "      <th>...</th>\n",
       "      <td>...</td>\n",
       "      <td>...</td>\n",
       "      <td>...</td>\n",
       "      <td>...</td>\n",
       "      <td>...</td>\n",
       "      <td>...</td>\n",
       "      <td>...</td>\n",
       "      <td>...</td>\n",
       "      <td>...</td>\n",
       "      <td>...</td>\n",
       "      <td>...</td>\n",
       "      <td>...</td>\n",
       "      <td>...</td>\n",
       "    </tr>\n",
       "    <tr>\n",
       "      <th>31642</th>\n",
       "      <td>management</td>\n",
       "      <td>single</td>\n",
       "      <td>tertiary</td>\n",
       "      <td>no</td>\n",
       "      <td>yes</td>\n",
       "      <td>no</td>\n",
       "      <td>cellular</td>\n",
       "      <td>12</td>\n",
       "      <td>may</td>\n",
       "      <td>0.135025</td>\n",
       "      <td>-0.469673</td>\n",
       "      <td>unknown</td>\n",
       "      <td>no</td>\n",
       "    </tr>\n",
       "    <tr>\n",
       "      <th>31643</th>\n",
       "      <td>management</td>\n",
       "      <td>divorced</td>\n",
       "      <td>tertiary</td>\n",
       "      <td>no</td>\n",
       "      <td>no</td>\n",
       "      <td>yes</td>\n",
       "      <td>cellular</td>\n",
       "      <td>5</td>\n",
       "      <td>jun</td>\n",
       "      <td>0.135025</td>\n",
       "      <td>-0.469673</td>\n",
       "      <td>unknown</td>\n",
       "      <td>yes</td>\n",
       "    </tr>\n",
       "    <tr>\n",
       "      <th>31644</th>\n",
       "      <td>management</td>\n",
       "      <td>single</td>\n",
       "      <td>tertiary</td>\n",
       "      <td>no</td>\n",
       "      <td>no</td>\n",
       "      <td>no</td>\n",
       "      <td>cellular</td>\n",
       "      <td>7</td>\n",
       "      <td>aug</td>\n",
       "      <td>0.738582</td>\n",
       "      <td>-0.469673</td>\n",
       "      <td>unknown</td>\n",
       "      <td>no</td>\n",
       "    </tr>\n",
       "    <tr>\n",
       "      <th>31645</th>\n",
       "      <td>technician</td>\n",
       "      <td>married</td>\n",
       "      <td>secondary</td>\n",
       "      <td>no</td>\n",
       "      <td>yes</td>\n",
       "      <td>no</td>\n",
       "      <td>telephone</td>\n",
       "      <td>15</td>\n",
       "      <td>may</td>\n",
       "      <td>1.609201</td>\n",
       "      <td>2.186083</td>\n",
       "      <td>failure</td>\n",
       "      <td>no</td>\n",
       "    </tr>\n",
       "    <tr>\n",
       "      <th>31646</th>\n",
       "      <td>management</td>\n",
       "      <td>divorced</td>\n",
       "      <td>secondary</td>\n",
       "      <td>no</td>\n",
       "      <td>yes</td>\n",
       "      <td>no</td>\n",
       "      <td>cellular</td>\n",
       "      <td>11</td>\n",
       "      <td>jul</td>\n",
       "      <td>0.135025</td>\n",
       "      <td>-0.469673</td>\n",
       "      <td>unknown</td>\n",
       "      <td>yes</td>\n",
       "    </tr>\n",
       "  </tbody>\n",
       "</table>\n",
       "<p>31647 rows × 13 columns</p>\n",
       "</div>"
      ],
      "text/plain": [
       "              job   marital  education default housing loan    contact  day  \\\n",
       "0          admin.   married    unknown      no      no   no  telephone   19   \n",
       "1         unknown   married  secondary      no      no   no   cellular   20   \n",
       "2        services   married  secondary      no     yes   no   cellular   18   \n",
       "3      management  divorced   tertiary      no      no   no   cellular   22   \n",
       "4      technician   married  secondary      no     yes   no   cellular    4   \n",
       "...           ...       ...        ...     ...     ...  ...        ...  ...   \n",
       "31642  management    single   tertiary      no     yes   no   cellular   12   \n",
       "31643  management  divorced   tertiary      no      no  yes   cellular    5   \n",
       "31644  management    single   tertiary      no      no   no   cellular    7   \n",
       "31645  technician   married  secondary      no     yes   no  telephone   15   \n",
       "31646  management  divorced  secondary      no     yes   no   cellular   11   \n",
       "\n",
       "      month  campaign  previous poutcome subscribed  \n",
       "0       nov  0.135025 -0.469673  unknown         no  \n",
       "1       jul  0.135025 -0.469673  unknown         no  \n",
       "2       jul -1.109239 -0.469673  unknown         no  \n",
       "3       jun -1.109239  2.177812  success        yes  \n",
       "4       feb -1.109239 -0.469673  unknown         no  \n",
       "...     ...       ...       ...      ...        ...  \n",
       "31642   may  0.135025 -0.469673  unknown         no  \n",
       "31643   jun  0.135025 -0.469673  unknown        yes  \n",
       "31644   aug  0.738582 -0.469673  unknown         no  \n",
       "31645   may  1.609201  2.186083  failure         no  \n",
       "31646   jul  0.135025 -0.469673  unknown        yes  \n",
       "\n",
       "[31647 rows x 13 columns]"
      ]
     },
     "execution_count": 24,
     "metadata": {},
     "output_type": "execute_result"
    }
   ],
   "source": [
    "df.drop(['ID', 'age','balance','duration','pdays'], axis=1,inplace=True)\n",
    "df"
   ]
  },
  {
   "cell_type": "code",
   "execution_count": 25,
   "id": "ad0ce5f3",
   "metadata": {},
   "outputs": [
    {
     "data": {
      "text/plain": [
       "<bound method Series.unique of 0            admin.\n",
       "1           unknown\n",
       "2          services\n",
       "3        management\n",
       "4        technician\n",
       "            ...    \n",
       "31642    management\n",
       "31643    management\n",
       "31644    management\n",
       "31645    technician\n",
       "31646    management\n",
       "Name: job, Length: 31647, dtype: object>"
      ]
     },
     "execution_count": 25,
     "metadata": {},
     "output_type": "execute_result"
    }
   ],
   "source": [
    "df.job.unique"
   ]
  },
  {
   "cell_type": "markdown",
   "id": "19f91367",
   "metadata": {},
   "source": [
    "# Exploratary Data Analysis"
   ]
  },
  {
   "cell_type": "code",
   "execution_count": 26,
   "id": "aaf1c2ea",
   "metadata": {},
   "outputs": [
    {
     "data": {
      "text/plain": [
       "([0, 1, 2, 3, 4, 5, 6, 7, 8, 9, 10, 11],\n",
       " [Text(0, 0, ''),\n",
       "  Text(0, 0, ''),\n",
       "  Text(0, 0, ''),\n",
       "  Text(0, 0, ''),\n",
       "  Text(0, 0, ''),\n",
       "  Text(0, 0, ''),\n",
       "  Text(0, 0, ''),\n",
       "  Text(0, 0, ''),\n",
       "  Text(0, 0, ''),\n",
       "  Text(0, 0, ''),\n",
       "  Text(0, 0, ''),\n",
       "  Text(0, 0, '')])"
      ]
     },
     "execution_count": 26,
     "metadata": {},
     "output_type": "execute_result"
    },
    {
     "data": {
      "image/png": "[encoded data removed]",
      "text/plain": [
       "<Figure size 432x288 with 1 Axes>"
      ]
     },
     "metadata": {
      "needs_background": "light"
     },
     "output_type": "display_data"
    }
   ],
   "source": [
    "sns.histplot(data=df,x='job',bins=12)\n",
    "plt.xticks(rotation=90)"
   ]
  },
  {
   "cell_type": "markdown",
   "id": "a6730495",
   "metadata": {},
   "source": [
    "#With the above plotting we can understand that Bule color and mangement job holders are high in no and unknown and students are very low in no."
   ]
  },
  {
   "cell_type": "code",
   "execution_count": 27,
   "id": "bf9e9574",
   "metadata": {},
   "outputs": [
    {
     "data": {
      "text/plain": [
       "<AxesSubplot:>"
      ]
     },
     "execution_count": 27,
     "metadata": {},
     "output_type": "execute_result"
    },
    {
     "data": {
      "image/png": "[encoded data removed]",
      "text/plain": [
       "<Figure size 720x720 with 1 Axes>"
      ]
     },
     "metadata": {
      "needs_background": "light"
     },
     "output_type": "display_data"
    }
   ],
   "source": [
    "plt.figure(figsize=(10,10))\n",
    "plt.xticks(rotation=90)\n",
    "df['marital'].value_counts().plot.bar()"
   ]
  },
  {
   "cell_type": "markdown",
   "id": "8db69d92",
   "metadata": {},
   "source": [
    "#With the Above graph we can understand that married customers are high in no and divorced customers are low in no"
   ]
  },
  {
   "cell_type": "code",
   "execution_count": 28,
   "id": "fcb2816e",
   "metadata": {},
   "outputs": [
    {
     "data": {
      "text/plain": [
       "<bound method Series.unique of 0          unknown\n",
       "1        secondary\n",
       "2        secondary\n",
       "3         tertiary\n",
       "4        secondary\n",
       "           ...    \n",
       "31642     tertiary\n",
       "31643     tertiary\n",
       "31644     tertiary\n",
       "31645    secondary\n",
       "31646    secondary\n",
       "Name: education, Length: 31647, dtype: object>"
      ]
     },
     "execution_count": 28,
     "metadata": {},
     "output_type": "execute_result"
    }
   ],
   "source": [
    "df.education.unique"
   ]
  },
  {
   "cell_type": "code",
   "execution_count": 29,
   "id": "338573d3",
   "metadata": {},
   "outputs": [
    {
     "data": {
      "text/plain": [
       "([0, 1, 2, 3],\n",
       " [Text(0, 0, ''), Text(0, 0, ''), Text(0, 0, ''), Text(0, 0, '')])"
      ]
     },
     "execution_count": 29,
     "metadata": {},
     "output_type": "execute_result"
    },
    {
     "data": {
      "image/png": "[encoded data removed]",
      "text/plain": [
       "<Figure size 432x288 with 1 Axes>"
      ]
     },
     "metadata": {
      "needs_background": "light"
     },
     "output_type": "display_data"
    }
   ],
   "source": [
    "sns.histplot(data=df,x='education',bins=4)\n",
    "plt.xticks(rotation=90)"
   ]
  },
  {
   "cell_type": "markdown",
   "id": "23ebd517",
   "metadata": {},
   "source": [
    "#With the above plot customers with secondary education are high no and primary educated customers are low "
   ]
  },
  {
   "cell_type": "code",
   "execution_count": 30,
   "id": "15e1c248",
   "metadata": {},
   "outputs": [
    {
     "data": {
      "text/plain": [
       "([0, 1], [Text(0, 0, ''), Text(0, 0, '')])"
      ]
     },
     "execution_count": 30,
     "metadata": {},
     "output_type": "execute_result"
    },
    {
     "data": {
      "image/png": "[encoded data removed]",
      "text/plain": [
       "<Figure size 432x288 with 1 Axes>"
      ]
     },
     "metadata": {
      "needs_background": "light"
     },
     "output_type": "display_data"
    }
   ],
   "source": [
    "sns.histplot(data=df,x='default',bins=2)\n",
    "plt.xticks(rotation=90)"
   ]
  },
  {
   "cell_type": "markdown",
   "id": "6b7e3e45",
   "metadata": {},
   "source": [
    "#The no of credit defaulters are low"
   ]
  },
  {
   "cell_type": "code",
   "execution_count": 31,
   "id": "cd51b8ef",
   "metadata": {},
   "outputs": [
    {
     "data": {
      "text/plain": [
       "([0, 1], [Text(0, 0, ''), Text(0, 0, '')])"
      ]
     },
     "execution_count": 31,
     "metadata": {},
     "output_type": "execute_result"
    },
    {
     "data": {
      "image/png": "[encoded data removed]",
      "text/plain": [
       "<Figure size 432x288 with 1 Axes>"
      ]
     },
     "metadata": {
      "needs_background": "light"
     },
     "output_type": "display_data"
    }
   ],
   "source": [
    "sns.histplot(data=df,x='housing',bins=2)\n",
    "plt.xticks(rotation=90)"
   ]
  },
  {
   "cell_type": "markdown",
   "id": "ff287d89",
   "metadata": {},
   "source": [
    "#Customers with own house are high in no"
   ]
  },
  {
   "cell_type": "code",
   "execution_count": 32,
   "id": "b27d68bf",
   "metadata": {},
   "outputs": [
    {
     "data": {
      "text/plain": [
       "([0, 1], [Text(0, 0, ''), Text(0, 0, '')])"
      ]
     },
     "execution_count": 32,
     "metadata": {},
     "output_type": "execute_result"
    },
    {
     "data": {
      "image/png": "[encoded data removed]",
      "text/plain": [
       "<Figure size 432x288 with 1 Axes>"
      ]
     },
     "metadata": {
      "needs_background": "light"
     },
     "output_type": "display_data"
    }
   ],
   "source": [
    "sns.histplot(data=df,x='loan',bins=2)\n",
    "plt.xticks(rotation=90)"
   ]
  },
  {
   "cell_type": "markdown",
   "id": "43805daa",
   "metadata": {},
   "source": [
    "#Customers who took personal loan are very low in no"
   ]
  },
  {
   "cell_type": "code",
   "execution_count": 33,
   "id": "7df7ee4d",
   "metadata": {},
   "outputs": [
    {
     "data": {
      "text/plain": [
       "([0, 1, 2], [Text(0, 0, ''), Text(0, 0, ''), Text(0, 0, '')])"
      ]
     },
     "execution_count": 33,
     "metadata": {},
     "output_type": "execute_result"
    },
    {
     "data": {
      "image/png": "[encoded data removed]",
      "text/plain": [
       "<Figure size 432x288 with 1 Axes>"
      ]
     },
     "metadata": {
      "needs_background": "light"
     },
     "output_type": "display_data"
    }
   ],
   "source": [
    "sns.histplot(data=df,x='contact',bins=3)\n",
    "plt.xticks(rotation=90)"
   ]
  },
  {
   "cell_type": "markdown",
   "id": "b10fb0a6",
   "metadata": {},
   "source": [
    "#Customers with mobile phone are high in no so that we can contact them directly and promote our products directly"
   ]
  },
  {
   "cell_type": "code",
   "execution_count": 34,
   "id": "387252dc",
   "metadata": {},
   "outputs": [
    {
     "data": {
      "text/plain": [
       "(array([-5.,  0.,  5., 10., 15., 20., 25., 30., 35.]),\n",
       " [Text(0, 0, ''),\n",
       "  Text(0, 0, ''),\n",
       "  Text(0, 0, ''),\n",
       "  Text(0, 0, ''),\n",
       "  Text(0, 0, ''),\n",
       "  Text(0, 0, ''),\n",
       "  Text(0, 0, ''),\n",
       "  Text(0, 0, ''),\n",
       "  Text(0, 0, '')])"
      ]
     },
     "execution_count": 34,
     "metadata": {},
     "output_type": "execute_result"
    },
    {
     "data": {
      "image/png": "[encoded data removed]",
      "text/plain": [
       "<Figure size 432x288 with 1 Axes>"
      ]
     },
     "metadata": {
      "needs_background": "light"
     },
     "output_type": "display_data"
    }
   ],
   "source": [
    "sns.histplot(data=df,x='day',bins=31)\n",
    "plt.xticks(rotation=90)"
   ]
  },
  {
   "cell_type": "markdown",
   "id": "e4f18aeb",
   "metadata": {},
   "source": [
    "#We can contact high no of cutomers in beween 15-20 of a month"
   ]
  },
  {
   "cell_type": "code",
   "execution_count": 35,
   "id": "e1262109",
   "metadata": {},
   "outputs": [
    {
     "data": {
      "text/plain": [
       "([0, 1, 2, 3, 4, 5, 6, 7, 8, 9, 10, 11],\n",
       " [Text(0, 0, ''),\n",
       "  Text(0, 0, ''),\n",
       "  Text(0, 0, ''),\n",
       "  Text(0, 0, ''),\n",
       "  Text(0, 0, ''),\n",
       "  Text(0, 0, ''),\n",
       "  Text(0, 0, ''),\n",
       "  Text(0, 0, ''),\n",
       "  Text(0, 0, ''),\n",
       "  Text(0, 0, ''),\n",
       "  Text(0, 0, ''),\n",
       "  Text(0, 0, '')])"
      ]
     },
     "execution_count": 35,
     "metadata": {},
     "output_type": "execute_result"
    },
    {
     "data": {
      "image/png": "[encoded data removed]",
      "text/plain": [
       "<Figure size 432x288 with 1 Axes>"
      ]
     },
     "metadata": {
      "needs_background": "light"
     },
     "output_type": "display_data"
    }
   ],
   "source": [
    "sns.histplot(data=df,x='month',bins=12)\n",
    "plt.xticks(rotation=90)"
   ]
  },
  {
   "cell_type": "markdown",
   "id": "471fdc4d",
   "metadata": {},
   "source": [
    "#We contact high no of customers in may month very low in the month of December"
   ]
  },
  {
   "cell_type": "code",
   "execution_count": 36,
   "id": "38082999",
   "metadata": {},
   "outputs": [
    {
     "data": {
      "text/plain": [
       "(array([-1.5, -1. , -0.5,  0. ,  0.5,  1. ,  1.5,  2. ,  2.5]),\n",
       " [Text(0, 0, ''),\n",
       "  Text(0, 0, ''),\n",
       "  Text(0, 0, ''),\n",
       "  Text(0, 0, ''),\n",
       "  Text(0, 0, ''),\n",
       "  Text(0, 0, ''),\n",
       "  Text(0, 0, ''),\n",
       "  Text(0, 0, ''),\n",
       "  Text(0, 0, '')])"
      ]
     },
     "execution_count": 36,
     "metadata": {},
     "output_type": "execute_result"
    },
    {
     "data": {
      "image/png": "[encoded data removed]",
      "text/plain": [
       "<Figure size 432x288 with 1 Axes>"
      ]
     },
     "metadata": {
      "needs_background": "light"
     },
     "output_type": "display_data"
    }
   ],
   "source": [
    "sns.histplot(data=df,x='campaign',bins=45)\n",
    "plt.xticks(rotation=90)"
   ]
  },
  {
   "cell_type": "markdown",
   "id": "87c2834e",
   "metadata": {},
   "source": [
    "#we contacted the customers mostly 0-10 times in the the campaign"
   ]
  },
  {
   "cell_type": "code",
   "execution_count": 37,
   "id": "bf108a8c",
   "metadata": {},
   "outputs": [
    {
     "data": {
      "text/plain": [
       "(array([-1. , -0.5,  0. ,  0.5,  1. ,  1.5,  2. ,  2.5]),\n",
       " [Text(0, 0, ''),\n",
       "  Text(0, 0, ''),\n",
       "  Text(0, 0, ''),\n",
       "  Text(0, 0, ''),\n",
       "  Text(0, 0, ''),\n",
       "  Text(0, 0, ''),\n",
       "  Text(0, 0, ''),\n",
       "  Text(0, 0, '')])"
      ]
     },
     "execution_count": 37,
     "metadata": {},
     "output_type": "execute_result"
    },
    {
     "data": {
      "image/png": "[encoded data removed]",
      "text/plain": [
       "<Figure size 432x288 with 1 Axes>"
      ]
     },
     "metadata": {
      "needs_background": "light"
     },
     "output_type": "display_data"
    }
   ],
   "source": [
    "sns.histplot(data=df,x='previous',bins=45)\n",
    "plt.xticks(rotation=90)"
   ]
  },
  {
   "cell_type": "markdown",
   "id": "e2364fa3",
   "metadata": {},
   "source": [
    "#Previously we contact customer very occationally before this campaign"
   ]
  },
  {
   "cell_type": "code",
   "execution_count": 38,
   "id": "95d2fce8",
   "metadata": {},
   "outputs": [
    {
     "data": {
      "text/plain": [
       "([0, 1, 2, 3],\n",
       " [Text(0, 0, ''), Text(0, 0, ''), Text(0, 0, ''), Text(0, 0, '')])"
      ]
     },
     "execution_count": 38,
     "metadata": {},
     "output_type": "execute_result"
    },
    {
     "data": {
      "image/png": "[encoded data removed]",
      "text/plain": [
       "<Figure size 432x288 with 1 Axes>"
      ]
     },
     "metadata": {
      "needs_background": "light"
     },
     "output_type": "display_data"
    }
   ],
   "source": [
    "sns.histplot(data=df,x='poutcome',bins=45)\n",
    "plt.xticks(rotation=90)"
   ]
  },
  {
   "cell_type": "markdown",
   "id": "629c1a92",
   "metadata": {},
   "source": [
    "#The success rate of previous campaign is verlow"
   ]
  },
  {
   "cell_type": "markdown",
   "id": "f9443e44",
   "metadata": {},
   "source": [
    "#There are various parameters to be consider weather cutomers are subscribed term deposit or not so we need to bulid suitable model"
   ]
  },
  {
   "cell_type": "markdown",
   "id": "37666ae0",
   "metadata": {},
   "source": [
    "#In order to get high accuracy we need to convert object data type to into integer  type with the help of Label encoder"
   ]
  },
  {
   "cell_type": "code",
   "execution_count": 39,
   "id": "981cb3b4",
   "metadata": {},
   "outputs": [
    {
     "data": {
      "text/plain": [
       "<seaborn.axisgrid.PairGrid at 0x27e846ea850>"
      ]
     },
     "execution_count": 39,
     "metadata": {},
     "output_type": "execute_result"
    },
    {
     "data": {
      "image/png": "[encoded data removed]",
      "text/plain": [
       "<Figure size 540x540 with 12 Axes>"
      ]
     },
     "metadata": {
      "needs_background": "light"
     },
     "output_type": "display_data"
    }
   ],
   "source": [
    "sns.pairplot(df)"
   ]
  },
  {
   "cell_type": "code",
   "execution_count": 40,
   "id": "e59e3087",
   "metadata": {},
   "outputs": [
    {
     "data": {
      "text/plain": [
       "Index(['job', 'marital', 'education', 'default', 'housing', 'loan', 'contact',\n",
       "       'day', 'month', 'campaign', 'previous', 'poutcome', 'subscribed'],\n",
       "      dtype='object')"
      ]
     },
     "execution_count": 40,
     "metadata": {},
     "output_type": "execute_result"
    }
   ],
   "source": [
    "df.columns"
   ]
  },
  {
   "cell_type": "code",
   "execution_count": 41,
   "id": "c37b1b4d",
   "metadata": {},
   "outputs": [
    {
     "data": {
      "text/html": [
       "<div>\n",
       "<style scoped>\n",
       "    .dataframe tbody tr th:only-of-type {\n",
       "        vertical-align: middle;\n",
       "    }\n",
       "\n",
       "    .dataframe tbody tr th {\n",
       "        vertical-align: top;\n",
       "    }\n",
       "\n",
       "    .dataframe thead th {\n",
       "        text-align: right;\n",
       "    }\n",
       "</style>\n",
       "<table border=\"1\" class=\"dataframe\">\n",
       "  <thead>\n",
       "    <tr style=\"text-align: right;\">\n",
       "      <th></th>\n",
       "      <th>job</th>\n",
       "      <th>marital</th>\n",
       "      <th>education</th>\n",
       "      <th>default</th>\n",
       "      <th>housing</th>\n",
       "      <th>loan</th>\n",
       "      <th>contact</th>\n",
       "      <th>day</th>\n",
       "      <th>month</th>\n",
       "      <th>campaign</th>\n",
       "      <th>previous</th>\n",
       "      <th>poutcome</th>\n",
       "      <th>subscribed</th>\n",
       "    </tr>\n",
       "  </thead>\n",
       "  <tbody>\n",
       "    <tr>\n",
       "      <th>0</th>\n",
       "      <td>0</td>\n",
       "      <td>1</td>\n",
       "      <td>3</td>\n",
       "      <td>0</td>\n",
       "      <td>0</td>\n",
       "      <td>0</td>\n",
       "      <td>1</td>\n",
       "      <td>19</td>\n",
       "      <td>9</td>\n",
       "      <td>0.135025</td>\n",
       "      <td>-0.469673</td>\n",
       "      <td>3</td>\n",
       "      <td>0</td>\n",
       "    </tr>\n",
       "    <tr>\n",
       "      <th>1</th>\n",
       "      <td>11</td>\n",
       "      <td>1</td>\n",
       "      <td>1</td>\n",
       "      <td>0</td>\n",
       "      <td>0</td>\n",
       "      <td>0</td>\n",
       "      <td>0</td>\n",
       "      <td>20</td>\n",
       "      <td>5</td>\n",
       "      <td>0.135025</td>\n",
       "      <td>-0.469673</td>\n",
       "      <td>3</td>\n",
       "      <td>0</td>\n",
       "    </tr>\n",
       "    <tr>\n",
       "      <th>2</th>\n",
       "      <td>7</td>\n",
       "      <td>1</td>\n",
       "      <td>1</td>\n",
       "      <td>0</td>\n",
       "      <td>1</td>\n",
       "      <td>0</td>\n",
       "      <td>0</td>\n",
       "      <td>18</td>\n",
       "      <td>5</td>\n",
       "      <td>-1.109239</td>\n",
       "      <td>-0.469673</td>\n",
       "      <td>3</td>\n",
       "      <td>0</td>\n",
       "    </tr>\n",
       "    <tr>\n",
       "      <th>3</th>\n",
       "      <td>4</td>\n",
       "      <td>0</td>\n",
       "      <td>2</td>\n",
       "      <td>0</td>\n",
       "      <td>0</td>\n",
       "      <td>0</td>\n",
       "      <td>0</td>\n",
       "      <td>22</td>\n",
       "      <td>6</td>\n",
       "      <td>-1.109239</td>\n",
       "      <td>2.177812</td>\n",
       "      <td>2</td>\n",
       "      <td>1</td>\n",
       "    </tr>\n",
       "    <tr>\n",
       "      <th>4</th>\n",
       "      <td>9</td>\n",
       "      <td>1</td>\n",
       "      <td>1</td>\n",
       "      <td>0</td>\n",
       "      <td>1</td>\n",
       "      <td>0</td>\n",
       "      <td>0</td>\n",
       "      <td>4</td>\n",
       "      <td>3</td>\n",
       "      <td>-1.109239</td>\n",
       "      <td>-0.469673</td>\n",
       "      <td>3</td>\n",
       "      <td>0</td>\n",
       "    </tr>\n",
       "    <tr>\n",
       "      <th>...</th>\n",
       "      <td>...</td>\n",
       "      <td>...</td>\n",
       "      <td>...</td>\n",
       "      <td>...</td>\n",
       "      <td>...</td>\n",
       "      <td>...</td>\n",
       "      <td>...</td>\n",
       "      <td>...</td>\n",
       "      <td>...</td>\n",
       "      <td>...</td>\n",
       "      <td>...</td>\n",
       "      <td>...</td>\n",
       "      <td>...</td>\n",
       "    </tr>\n",
       "    <tr>\n",
       "      <th>31642</th>\n",
       "      <td>4</td>\n",
       "      <td>2</td>\n",
       "      <td>2</td>\n",
       "      <td>0</td>\n",
       "      <td>1</td>\n",
       "      <td>0</td>\n",
       "      <td>0</td>\n",
       "      <td>12</td>\n",
       "      <td>8</td>\n",
       "      <td>0.135025</td>\n",
       "      <td>-0.469673</td>\n",
       "      <td>3</td>\n",
       "      <td>0</td>\n",
       "    </tr>\n",
       "    <tr>\n",
       "      <th>31643</th>\n",
       "      <td>4</td>\n",
       "      <td>0</td>\n",
       "      <td>2</td>\n",
       "      <td>0</td>\n",
       "      <td>0</td>\n",
       "      <td>1</td>\n",
       "      <td>0</td>\n",
       "      <td>5</td>\n",
       "      <td>6</td>\n",
       "      <td>0.135025</td>\n",
       "      <td>-0.469673</td>\n",
       "      <td>3</td>\n",
       "      <td>1</td>\n",
       "    </tr>\n",
       "    <tr>\n",
       "      <th>31644</th>\n",
       "      <td>4</td>\n",
       "      <td>2</td>\n",
       "      <td>2</td>\n",
       "      <td>0</td>\n",
       "      <td>0</td>\n",
       "      <td>0</td>\n",
       "      <td>0</td>\n",
       "      <td>7</td>\n",
       "      <td>1</td>\n",
       "      <td>0.738582</td>\n",
       "      <td>-0.469673</td>\n",
       "      <td>3</td>\n",
       "      <td>0</td>\n",
       "    </tr>\n",
       "    <tr>\n",
       "      <th>31645</th>\n",
       "      <td>9</td>\n",
       "      <td>1</td>\n",
       "      <td>1</td>\n",
       "      <td>0</td>\n",
       "      <td>1</td>\n",
       "      <td>0</td>\n",
       "      <td>1</td>\n",
       "      <td>15</td>\n",
       "      <td>8</td>\n",
       "      <td>1.609201</td>\n",
       "      <td>2.186083</td>\n",
       "      <td>0</td>\n",
       "      <td>0</td>\n",
       "    </tr>\n",
       "    <tr>\n",
       "      <th>31646</th>\n",
       "      <td>4</td>\n",
       "      <td>0</td>\n",
       "      <td>1</td>\n",
       "      <td>0</td>\n",
       "      <td>1</td>\n",
       "      <td>0</td>\n",
       "      <td>0</td>\n",
       "      <td>11</td>\n",
       "      <td>5</td>\n",
       "      <td>0.135025</td>\n",
       "      <td>-0.469673</td>\n",
       "      <td>3</td>\n",
       "      <td>1</td>\n",
       "    </tr>\n",
       "  </tbody>\n",
       "</table>\n",
       "<p>31647 rows × 13 columns</p>\n",
       "</div>"
      ],
      "text/plain": [
       "       job  marital  education  default  housing  loan  contact  day  month  \\\n",
       "0        0        1          3        0        0     0        1   19      9   \n",
       "1       11        1          1        0        0     0        0   20      5   \n",
       "2        7        1          1        0        1     0        0   18      5   \n",
       "3        4        0          2        0        0     0        0   22      6   \n",
       "4        9        1          1        0        1     0        0    4      3   \n",
       "...    ...      ...        ...      ...      ...   ...      ...  ...    ...   \n",
       "31642    4        2          2        0        1     0        0   12      8   \n",
       "31643    4        0          2        0        0     1        0    5      6   \n",
       "31644    4        2          2        0        0     0        0    7      1   \n",
       "31645    9        1          1        0        1     0        1   15      8   \n",
       "31646    4        0          1        0        1     0        0   11      5   \n",
       "\n",
       "       campaign  previous  poutcome  subscribed  \n",
       "0      0.135025 -0.469673         3           0  \n",
       "1      0.135025 -0.469673         3           0  \n",
       "2     -1.109239 -0.469673         3           0  \n",
       "3     -1.109239  2.177812         2           1  \n",
       "4     -1.109239 -0.469673         3           0  \n",
       "...         ...       ...       ...         ...  \n",
       "31642  0.135025 -0.469673         3           0  \n",
       "31643  0.135025 -0.469673         3           1  \n",
       "31644  0.738582 -0.469673         3           0  \n",
       "31645  1.609201  2.186083         0           0  \n",
       "31646  0.135025 -0.469673         3           1  \n",
       "\n",
       "[31647 rows x 13 columns]"
      ]
     },
     "execution_count": 41,
     "metadata": {},
     "output_type": "execute_result"
    }
   ],
   "source": [
    "le=LabelEncoder()\n",
    "col=['job','marital','education','default','housing','loan','contact','month','poutcome','subscribed']\n",
    "df[col]=df[col].apply(lambda x:le.fit_transform(x))\n",
    "df"
   ]
  },
  {
   "cell_type": "markdown",
   "id": "f63fe30f",
   "metadata": {},
   "source": [
    "#Now the dataset is ready for model buliding Most suitable model is logistic regression hence the out come classfication type i.e- yes/no even though we will build other models to know which is showing high preformance"
   ]
  },
  {
   "cell_type": "code",
   "execution_count": 42,
   "id": "dc24eca8",
   "metadata": {},
   "outputs": [
    {
     "data": {
      "text/html": [
       "<div>\n",
       "<style scoped>\n",
       "    .dataframe tbody tr th:only-of-type {\n",
       "        vertical-align: middle;\n",
       "    }\n",
       "\n",
       "    .dataframe tbody tr th {\n",
       "        vertical-align: top;\n",
       "    }\n",
       "\n",
       "    .dataframe thead th {\n",
       "        text-align: right;\n",
       "    }\n",
       "</style>\n",
       "<table border=\"1\" class=\"dataframe\">\n",
       "  <thead>\n",
       "    <tr style=\"text-align: right;\">\n",
       "      <th></th>\n",
       "      <th>job</th>\n",
       "      <th>marital</th>\n",
       "      <th>education</th>\n",
       "      <th>default</th>\n",
       "      <th>housing</th>\n",
       "      <th>loan</th>\n",
       "      <th>contact</th>\n",
       "      <th>day</th>\n",
       "      <th>month</th>\n",
       "      <th>campaign</th>\n",
       "      <th>previous</th>\n",
       "      <th>poutcome</th>\n",
       "    </tr>\n",
       "  </thead>\n",
       "  <tbody>\n",
       "    <tr>\n",
       "      <th>0</th>\n",
       "      <td>0</td>\n",
       "      <td>1</td>\n",
       "      <td>3</td>\n",
       "      <td>0</td>\n",
       "      <td>0</td>\n",
       "      <td>0</td>\n",
       "      <td>1</td>\n",
       "      <td>19</td>\n",
       "      <td>9</td>\n",
       "      <td>0.135025</td>\n",
       "      <td>-0.469673</td>\n",
       "      <td>3</td>\n",
       "    </tr>\n",
       "    <tr>\n",
       "      <th>1</th>\n",
       "      <td>11</td>\n",
       "      <td>1</td>\n",
       "      <td>1</td>\n",
       "      <td>0</td>\n",
       "      <td>0</td>\n",
       "      <td>0</td>\n",
       "      <td>0</td>\n",
       "      <td>20</td>\n",
       "      <td>5</td>\n",
       "      <td>0.135025</td>\n",
       "      <td>-0.469673</td>\n",
       "      <td>3</td>\n",
       "    </tr>\n",
       "    <tr>\n",
       "      <th>2</th>\n",
       "      <td>7</td>\n",
       "      <td>1</td>\n",
       "      <td>1</td>\n",
       "      <td>0</td>\n",
       "      <td>1</td>\n",
       "      <td>0</td>\n",
       "      <td>0</td>\n",
       "      <td>18</td>\n",
       "      <td>5</td>\n",
       "      <td>-1.109239</td>\n",
       "      <td>-0.469673</td>\n",
       "      <td>3</td>\n",
       "    </tr>\n",
       "    <tr>\n",
       "      <th>3</th>\n",
       "      <td>4</td>\n",
       "      <td>0</td>\n",
       "      <td>2</td>\n",
       "      <td>0</td>\n",
       "      <td>0</td>\n",
       "      <td>0</td>\n",
       "      <td>0</td>\n",
       "      <td>22</td>\n",
       "      <td>6</td>\n",
       "      <td>-1.109239</td>\n",
       "      <td>2.177812</td>\n",
       "      <td>2</td>\n",
       "    </tr>\n",
       "    <tr>\n",
       "      <th>4</th>\n",
       "      <td>9</td>\n",
       "      <td>1</td>\n",
       "      <td>1</td>\n",
       "      <td>0</td>\n",
       "      <td>1</td>\n",
       "      <td>0</td>\n",
       "      <td>0</td>\n",
       "      <td>4</td>\n",
       "      <td>3</td>\n",
       "      <td>-1.109239</td>\n",
       "      <td>-0.469673</td>\n",
       "      <td>3</td>\n",
       "    </tr>\n",
       "    <tr>\n",
       "      <th>...</th>\n",
       "      <td>...</td>\n",
       "      <td>...</td>\n",
       "      <td>...</td>\n",
       "      <td>...</td>\n",
       "      <td>...</td>\n",
       "      <td>...</td>\n",
       "      <td>...</td>\n",
       "      <td>...</td>\n",
       "      <td>...</td>\n",
       "      <td>...</td>\n",
       "      <td>...</td>\n",
       "      <td>...</td>\n",
       "    </tr>\n",
       "    <tr>\n",
       "      <th>31642</th>\n",
       "      <td>4</td>\n",
       "      <td>2</td>\n",
       "      <td>2</td>\n",
       "      <td>0</td>\n",
       "      <td>1</td>\n",
       "      <td>0</td>\n",
       "      <td>0</td>\n",
       "      <td>12</td>\n",
       "      <td>8</td>\n",
       "      <td>0.135025</td>\n",
       "      <td>-0.469673</td>\n",
       "      <td>3</td>\n",
       "    </tr>\n",
       "    <tr>\n",
       "      <th>31643</th>\n",
       "      <td>4</td>\n",
       "      <td>0</td>\n",
       "      <td>2</td>\n",
       "      <td>0</td>\n",
       "      <td>0</td>\n",
       "      <td>1</td>\n",
       "      <td>0</td>\n",
       "      <td>5</td>\n",
       "      <td>6</td>\n",
       "      <td>0.135025</td>\n",
       "      <td>-0.469673</td>\n",
       "      <td>3</td>\n",
       "    </tr>\n",
       "    <tr>\n",
       "      <th>31644</th>\n",
       "      <td>4</td>\n",
       "      <td>2</td>\n",
       "      <td>2</td>\n",
       "      <td>0</td>\n",
       "      <td>0</td>\n",
       "      <td>0</td>\n",
       "      <td>0</td>\n",
       "      <td>7</td>\n",
       "      <td>1</td>\n",
       "      <td>0.738582</td>\n",
       "      <td>-0.469673</td>\n",
       "      <td>3</td>\n",
       "    </tr>\n",
       "    <tr>\n",
       "      <th>31645</th>\n",
       "      <td>9</td>\n",
       "      <td>1</td>\n",
       "      <td>1</td>\n",
       "      <td>0</td>\n",
       "      <td>1</td>\n",
       "      <td>0</td>\n",
       "      <td>1</td>\n",
       "      <td>15</td>\n",
       "      <td>8</td>\n",
       "      <td>1.609201</td>\n",
       "      <td>2.186083</td>\n",
       "      <td>0</td>\n",
       "    </tr>\n",
       "    <tr>\n",
       "      <th>31646</th>\n",
       "      <td>4</td>\n",
       "      <td>0</td>\n",
       "      <td>1</td>\n",
       "      <td>0</td>\n",
       "      <td>1</td>\n",
       "      <td>0</td>\n",
       "      <td>0</td>\n",
       "      <td>11</td>\n",
       "      <td>5</td>\n",
       "      <td>0.135025</td>\n",
       "      <td>-0.469673</td>\n",
       "      <td>3</td>\n",
       "    </tr>\n",
       "  </tbody>\n",
       "</table>\n",
       "<p>31647 rows × 12 columns</p>\n",
       "</div>"
      ],
      "text/plain": [
       "       job  marital  education  default  housing  loan  contact  day  month  \\\n",
       "0        0        1          3        0        0     0        1   19      9   \n",
       "1       11        1          1        0        0     0        0   20      5   \n",
       "2        7        1          1        0        1     0        0   18      5   \n",
       "3        4        0          2        0        0     0        0   22      6   \n",
       "4        9        1          1        0        1     0        0    4      3   \n",
       "...    ...      ...        ...      ...      ...   ...      ...  ...    ...   \n",
       "31642    4        2          2        0        1     0        0   12      8   \n",
       "31643    4        0          2        0        0     1        0    5      6   \n",
       "31644    4        2          2        0        0     0        0    7      1   \n",
       "31645    9        1          1        0        1     0        1   15      8   \n",
       "31646    4        0          1        0        1     0        0   11      5   \n",
       "\n",
       "       campaign  previous  poutcome  \n",
       "0      0.135025 -0.469673         3  \n",
       "1      0.135025 -0.469673         3  \n",
       "2     -1.109239 -0.469673         3  \n",
       "3     -1.109239  2.177812         2  \n",
       "4     -1.109239 -0.469673         3  \n",
       "...         ...       ...       ...  \n",
       "31642  0.135025 -0.469673         3  \n",
       "31643  0.135025 -0.469673         3  \n",
       "31644  0.738582 -0.469673         3  \n",
       "31645  1.609201  2.186083         0  \n",
       "31646  0.135025 -0.469673         3  \n",
       "\n",
       "[31647 rows x 12 columns]"
      ]
     },
     "execution_count": 42,
     "metadata": {},
     "output_type": "execute_result"
    }
   ],
   "source": [
    "#Seperating the Label and Target\n",
    "x=df.iloc[:,0:-1]\n",
    "x"
   ]
  },
  {
   "cell_type": "code",
   "execution_count": 43,
   "id": "3ec7ecf5",
   "metadata": {},
   "outputs": [
    {
     "data": {
      "text/plain": [
       "0        0\n",
       "1        0\n",
       "2        0\n",
       "3        1\n",
       "4        0\n",
       "        ..\n",
       "31642    0\n",
       "31643    1\n",
       "31644    0\n",
       "31645    0\n",
       "31646    1\n",
       "Name: subscribed, Length: 31647, dtype: int32"
      ]
     },
     "execution_count": 43,
     "metadata": {},
     "output_type": "execute_result"
    }
   ],
   "source": [
    "y=df.iloc[:,-1]\n",
    "y"
   ]
  },
  {
   "cell_type": "code",
   "execution_count": 44,
   "id": "5c03ef4c",
   "metadata": {},
   "outputs": [
    {
     "data": {
      "text/plain": [
       "(31647, 12)"
      ]
     },
     "execution_count": 44,
     "metadata": {},
     "output_type": "execute_result"
    }
   ],
   "source": [
    "x.shape\n"
   ]
  },
  {
   "cell_type": "code",
   "execution_count": 45,
   "id": "cba114a7",
   "metadata": {},
   "outputs": [
    {
     "data": {
      "text/plain": [
       "(31647,)"
      ]
     },
     "execution_count": 45,
     "metadata": {},
     "output_type": "execute_result"
    }
   ],
   "source": [
    "y.shape"
   ]
  },
  {
   "cell_type": "code",
   "execution_count": 46,
   "id": "b59a45b5",
   "metadata": {},
   "outputs": [
    {
     "data": {
      "text/plain": [
       "0    27932\n",
       "1     3715\n",
       "Name: subscribed, dtype: int64"
      ]
     },
     "execution_count": 46,
     "metadata": {},
     "output_type": "execute_result"
    }
   ],
   "source": [
    "df['subscribed'].value_counts()"
   ]
  },
  {
   "cell_type": "markdown",
   "id": "d9e887d0",
   "metadata": {},
   "source": [
    "#The customer who are subscribed for Term - Deposit low in no and not subscribed is high in no and it is Imblanced Datset"
   ]
  },
  {
   "cell_type": "markdown",
   "id": "fccd7a80",
   "metadata": {},
   "source": [
    "#Hence Dataset is imbalce we need to convert it as balance data set through"
   ]
  },
  {
   "cell_type": "code",
   "execution_count": 47,
   "id": "27c6c29e",
   "metadata": {},
   "outputs": [],
   "source": [
    "from imblearn.over_sampling import SMOTE\n",
    "smt=SMOTE()\n",
    "x_train,y_train=smt.fit_resample(x,y)"
   ]
  },
  {
   "cell_type": "code",
   "execution_count": 48,
   "id": "30bc5af5",
   "metadata": {},
   "outputs": [
    {
     "data": {
      "text/plain": [
       "0    27932\n",
       "1    27932\n",
       "Name: subscribed, dtype: int64"
      ]
     },
     "execution_count": 48,
     "metadata": {},
     "output_type": "execute_result"
    }
   ],
   "source": [
    "x_train.value_counts()\n",
    "y_train.value_counts()"
   ]
  },
  {
   "cell_type": "markdown",
   "id": "b2afd01d",
   "metadata": {},
   "source": [
    "# Standardizing Data:-"
   ]
  },
  {
   "cell_type": "code",
   "execution_count": 49,
   "id": "8247712c",
   "metadata": {},
   "outputs": [],
   "source": [
    "from statsmodels.stats.outliers_influence import variance_inflation_factor"
   ]
  },
  {
   "cell_type": "code",
   "execution_count": 50,
   "id": "95c0f860",
   "metadata": {},
   "outputs": [],
   "source": [
    "def vif_calc():\n",
    "    vif = pd.DataFrame()\n",
    "    vif[\"vif Factor\"] = [variance_inflation_factor(x.values,i)for i in range(x.shape[1])]\n",
    "    vif['features']=x.columns\n",
    "    print(vif)"
   ]
  },
  {
   "cell_type": "code",
   "execution_count": 51,
   "id": "294b27c9",
   "metadata": {},
   "outputs": [
    {
     "name": "stdout",
     "output_type": "stream",
     "text": [
      "    vif Factor   features\n",
      "0     2.838861        job\n",
      "1     4.608331    marital\n",
      "2     3.801471  education\n",
      "3     1.027288    default\n",
      "4     2.440198    housing\n",
      "5     1.202106       loan\n",
      "6     2.003618    contact\n",
      "7     4.546041        day\n",
      "8     5.396390      month\n",
      "9     1.054525   campaign\n",
      "10    2.753998   previous\n",
      "11   14.777286   poutcome\n"
     ]
    }
   ],
   "source": [
    "vif_calc()"
   ]
  },
  {
   "cell_type": "markdown",
   "id": "10125e92",
   "metadata": {},
   "source": [
    "#Applying Standard Scaler:-\n"
   ]
  },
  {
   "cell_type": "code",
   "execution_count": 52,
   "id": "acbcd2ec",
   "metadata": {},
   "outputs": [
    {
     "data": {
      "text/plain": [
       "array([[-1.324317  , -0.27540549,  2.36922937, ...,  0.135025  ,\n",
       "        -0.46967334,  0.44177692],\n",
       "       [ 2.03772948, -0.27540549, -0.30034505, ...,  0.135025  ,\n",
       "        -0.46967334,  0.44177692],\n",
       "       [ 0.81516712, -0.27540549, -0.30034505, ..., -1.1092387 ,\n",
       "        -0.46967334,  0.44177692],\n",
       "       ...,\n",
       "       [-0.10175464,  1.37156305,  1.03444216, ...,  0.73858224,\n",
       "        -0.46967334,  0.44177692],\n",
       "       [ 1.4264483 , -0.27540549, -0.30034505, ...,  1.60920054,\n",
       "         2.18608335, -2.61304774],\n",
       "       [-0.10175464, -1.92237403, -0.30034505, ...,  0.135025  ,\n",
       "        -0.46967334,  0.44177692]])"
      ]
     },
     "execution_count": 52,
     "metadata": {},
     "output_type": "execute_result"
    }
   ],
   "source": [
    "from sklearn.preprocessing import StandardScaler\n",
    "st=StandardScaler()\n",
    "x=st.fit_transform(x)\n",
    "x"
   ]
  },
  {
   "cell_type": "code",
   "execution_count": 53,
   "id": "67677155",
   "metadata": {},
   "outputs": [
    {
     "data": {
      "text/html": [
       "<div>\n",
       "<style scoped>\n",
       "    .dataframe tbody tr th:only-of-type {\n",
       "        vertical-align: middle;\n",
       "    }\n",
       "\n",
       "    .dataframe tbody tr th {\n",
       "        vertical-align: top;\n",
       "    }\n",
       "\n",
       "    .dataframe thead th {\n",
       "        text-align: right;\n",
       "    }\n",
       "</style>\n",
       "<table border=\"1\" class=\"dataframe\">\n",
       "  <thead>\n",
       "    <tr style=\"text-align: right;\">\n",
       "      <th></th>\n",
       "      <th>0</th>\n",
       "      <th>1</th>\n",
       "      <th>2</th>\n",
       "      <th>3</th>\n",
       "      <th>4</th>\n",
       "      <th>5</th>\n",
       "      <th>6</th>\n",
       "      <th>7</th>\n",
       "      <th>8</th>\n",
       "      <th>9</th>\n",
       "      <th>10</th>\n",
       "      <th>11</th>\n",
       "    </tr>\n",
       "  </thead>\n",
       "  <tbody>\n",
       "    <tr>\n",
       "      <th>0</th>\n",
       "      <td>-1.324317</td>\n",
       "      <td>-0.275405</td>\n",
       "      <td>2.369229</td>\n",
       "      <td>-0.137234</td>\n",
       "      <td>-1.118201</td>\n",
       "      <td>-0.439893</td>\n",
       "      <td>0.395076</td>\n",
       "      <td>0.379579</td>\n",
       "      <td>1.154007</td>\n",
       "      <td>0.135025</td>\n",
       "      <td>-0.469673</td>\n",
       "      <td>0.441777</td>\n",
       "    </tr>\n",
       "    <tr>\n",
       "      <th>1</th>\n",
       "      <td>2.037729</td>\n",
       "      <td>-0.275405</td>\n",
       "      <td>-0.300345</td>\n",
       "      <td>-0.137234</td>\n",
       "      <td>-1.118201</td>\n",
       "      <td>-0.439893</td>\n",
       "      <td>-0.716695</td>\n",
       "      <td>0.499526</td>\n",
       "      <td>-0.177462</td>\n",
       "      <td>0.135025</td>\n",
       "      <td>-0.469673</td>\n",
       "      <td>0.441777</td>\n",
       "    </tr>\n",
       "    <tr>\n",
       "      <th>2</th>\n",
       "      <td>0.815167</td>\n",
       "      <td>-0.275405</td>\n",
       "      <td>-0.300345</td>\n",
       "      <td>-0.137234</td>\n",
       "      <td>0.894294</td>\n",
       "      <td>-0.439893</td>\n",
       "      <td>-0.716695</td>\n",
       "      <td>0.259631</td>\n",
       "      <td>-0.177462</td>\n",
       "      <td>-1.109239</td>\n",
       "      <td>-0.469673</td>\n",
       "      <td>0.441777</td>\n",
       "    </tr>\n",
       "    <tr>\n",
       "      <th>3</th>\n",
       "      <td>-0.101755</td>\n",
       "      <td>-1.922374</td>\n",
       "      <td>1.034442</td>\n",
       "      <td>-0.137234</td>\n",
       "      <td>-1.118201</td>\n",
       "      <td>-0.439893</td>\n",
       "      <td>-0.716695</td>\n",
       "      <td>0.739422</td>\n",
       "      <td>0.155405</td>\n",
       "      <td>-1.109239</td>\n",
       "      <td>2.177812</td>\n",
       "      <td>-0.576498</td>\n",
       "    </tr>\n",
       "    <tr>\n",
       "      <th>4</th>\n",
       "      <td>1.426448</td>\n",
       "      <td>-0.275405</td>\n",
       "      <td>-0.300345</td>\n",
       "      <td>-0.137234</td>\n",
       "      <td>0.894294</td>\n",
       "      <td>-0.439893</td>\n",
       "      <td>-0.716695</td>\n",
       "      <td>-1.419637</td>\n",
       "      <td>-0.843197</td>\n",
       "      <td>-1.109239</td>\n",
       "      <td>-0.469673</td>\n",
       "      <td>0.441777</td>\n",
       "    </tr>\n",
       "    <tr>\n",
       "      <th>...</th>\n",
       "      <td>...</td>\n",
       "      <td>...</td>\n",
       "      <td>...</td>\n",
       "      <td>...</td>\n",
       "      <td>...</td>\n",
       "      <td>...</td>\n",
       "      <td>...</td>\n",
       "      <td>...</td>\n",
       "      <td>...</td>\n",
       "      <td>...</td>\n",
       "      <td>...</td>\n",
       "      <td>...</td>\n",
       "    </tr>\n",
       "    <tr>\n",
       "      <th>31642</th>\n",
       "      <td>-0.101755</td>\n",
       "      <td>1.371563</td>\n",
       "      <td>1.034442</td>\n",
       "      <td>-0.137234</td>\n",
       "      <td>0.894294</td>\n",
       "      <td>-0.439893</td>\n",
       "      <td>-0.716695</td>\n",
       "      <td>-0.460055</td>\n",
       "      <td>0.821140</td>\n",
       "      <td>0.135025</td>\n",
       "      <td>-0.469673</td>\n",
       "      <td>0.441777</td>\n",
       "    </tr>\n",
       "    <tr>\n",
       "      <th>31643</th>\n",
       "      <td>-0.101755</td>\n",
       "      <td>-1.922374</td>\n",
       "      <td>1.034442</td>\n",
       "      <td>-0.137234</td>\n",
       "      <td>-1.118201</td>\n",
       "      <td>2.273280</td>\n",
       "      <td>-0.716695</td>\n",
       "      <td>-1.299690</td>\n",
       "      <td>0.155405</td>\n",
       "      <td>0.135025</td>\n",
       "      <td>-0.469673</td>\n",
       "      <td>0.441777</td>\n",
       "    </tr>\n",
       "    <tr>\n",
       "      <th>31644</th>\n",
       "      <td>-0.101755</td>\n",
       "      <td>1.371563</td>\n",
       "      <td>1.034442</td>\n",
       "      <td>-0.137234</td>\n",
       "      <td>-1.118201</td>\n",
       "      <td>-0.439893</td>\n",
       "      <td>-0.716695</td>\n",
       "      <td>-1.059794</td>\n",
       "      <td>-1.508931</td>\n",
       "      <td>0.738582</td>\n",
       "      <td>-0.469673</td>\n",
       "      <td>0.441777</td>\n",
       "    </tr>\n",
       "    <tr>\n",
       "      <th>31645</th>\n",
       "      <td>1.426448</td>\n",
       "      <td>-0.275405</td>\n",
       "      <td>-0.300345</td>\n",
       "      <td>-0.137234</td>\n",
       "      <td>0.894294</td>\n",
       "      <td>-0.439893</td>\n",
       "      <td>0.395076</td>\n",
       "      <td>-0.100212</td>\n",
       "      <td>0.821140</td>\n",
       "      <td>1.609201</td>\n",
       "      <td>2.186083</td>\n",
       "      <td>-2.613048</td>\n",
       "    </tr>\n",
       "    <tr>\n",
       "      <th>31646</th>\n",
       "      <td>-0.101755</td>\n",
       "      <td>-1.922374</td>\n",
       "      <td>-0.300345</td>\n",
       "      <td>-0.137234</td>\n",
       "      <td>0.894294</td>\n",
       "      <td>-0.439893</td>\n",
       "      <td>-0.716695</td>\n",
       "      <td>-0.580003</td>\n",
       "      <td>-0.177462</td>\n",
       "      <td>0.135025</td>\n",
       "      <td>-0.469673</td>\n",
       "      <td>0.441777</td>\n",
       "    </tr>\n",
       "  </tbody>\n",
       "</table>\n",
       "<p>31647 rows × 12 columns</p>\n",
       "</div>"
      ],
      "text/plain": [
       "             0         1         2         3         4         5         6   \\\n",
       "0     -1.324317 -0.275405  2.369229 -0.137234 -1.118201 -0.439893  0.395076   \n",
       "1      2.037729 -0.275405 -0.300345 -0.137234 -1.118201 -0.439893 -0.716695   \n",
       "2      0.815167 -0.275405 -0.300345 -0.137234  0.894294 -0.439893 -0.716695   \n",
       "3     -0.101755 -1.922374  1.034442 -0.137234 -1.118201 -0.439893 -0.716695   \n",
       "4      1.426448 -0.275405 -0.300345 -0.137234  0.894294 -0.439893 -0.716695   \n",
       "...         ...       ...       ...       ...       ...       ...       ...   \n",
       "31642 -0.101755  1.371563  1.034442 -0.137234  0.894294 -0.439893 -0.716695   \n",
       "31643 -0.101755 -1.922374  1.034442 -0.137234 -1.118201  2.273280 -0.716695   \n",
       "31644 -0.101755  1.371563  1.034442 -0.137234 -1.118201 -0.439893 -0.716695   \n",
       "31645  1.426448 -0.275405 -0.300345 -0.137234  0.894294 -0.439893  0.395076   \n",
       "31646 -0.101755 -1.922374 -0.300345 -0.137234  0.894294 -0.439893 -0.716695   \n",
       "\n",
       "             7         8         9         10        11  \n",
       "0      0.379579  1.154007  0.135025 -0.469673  0.441777  \n",
       "1      0.499526 -0.177462  0.135025 -0.469673  0.441777  \n",
       "2      0.259631 -0.177462 -1.109239 -0.469673  0.441777  \n",
       "3      0.739422  0.155405 -1.109239  2.177812 -0.576498  \n",
       "4     -1.419637 -0.843197 -1.109239 -0.469673  0.441777  \n",
       "...         ...       ...       ...       ...       ...  \n",
       "31642 -0.460055  0.821140  0.135025 -0.469673  0.441777  \n",
       "31643 -1.299690  0.155405  0.135025 -0.469673  0.441777  \n",
       "31644 -1.059794 -1.508931  0.738582 -0.469673  0.441777  \n",
       "31645 -0.100212  0.821140  1.609201  2.186083 -2.613048  \n",
       "31646 -0.580003 -0.177462  0.135025 -0.469673  0.441777  \n",
       "\n",
       "[31647 rows x 12 columns]"
      ]
     },
     "execution_count": 53,
     "metadata": {},
     "output_type": "execute_result"
    }
   ],
   "source": [
    "xf=pd.DataFrame(data=x)\n",
    "xf"
   ]
  },
  {
   "cell_type": "code",
   "execution_count": 54,
   "id": "401ef9ce",
   "metadata": {},
   "outputs": [],
   "source": [
    "# Training the Dataset \n",
    "x_train,x_test,y_train,y_test=train_test_split(x,y,test_size=.30,random_state=39)"
   ]
  },
  {
   "cell_type": "code",
   "execution_count": 55,
   "id": "3b987e79",
   "metadata": {},
   "outputs": [
    {
     "data": {
      "text/plain": [
       "(22152, 12)"
      ]
     },
     "execution_count": 55,
     "metadata": {},
     "output_type": "execute_result"
    }
   ],
   "source": [
    "x_train.shape"
   ]
  },
  {
   "cell_type": "code",
   "execution_count": 56,
   "id": "38f66cc0",
   "metadata": {},
   "outputs": [
    {
     "data": {
      "text/plain": [
       "(9495, 12)"
      ]
     },
     "execution_count": 56,
     "metadata": {},
     "output_type": "execute_result"
    }
   ],
   "source": [
    "x_test.shape"
   ]
  },
  {
   "cell_type": "code",
   "execution_count": 57,
   "id": "2dc64151",
   "metadata": {},
   "outputs": [
    {
     "data": {
      "text/plain": [
       "(22152,)"
      ]
     },
     "execution_count": 57,
     "metadata": {},
     "output_type": "execute_result"
    }
   ],
   "source": [
    "y_train.shape"
   ]
  },
  {
   "cell_type": "code",
   "execution_count": 58,
   "id": "c34794ab",
   "metadata": {},
   "outputs": [
    {
     "data": {
      "text/plain": [
       "(9495,)"
      ]
     },
     "execution_count": 58,
     "metadata": {},
     "output_type": "execute_result"
    }
   ],
   "source": [
    "y_test.shape"
   ]
  },
  {
   "cell_type": "markdown",
   "id": "d57a1fa5",
   "metadata": {},
   "source": [
    "# LogisticRegression"
   ]
  },
  {
   "cell_type": "code",
   "execution_count": 59,
   "id": "13d12065",
   "metadata": {},
   "outputs": [
    {
     "data": {
      "text/plain": [
       "array([0, 0, 0, ..., 0, 0, 0])"
      ]
     },
     "execution_count": 59,
     "metadata": {},
     "output_type": "execute_result"
    }
   ],
   "source": [
    "lg=LogisticRegression()\n",
    "lg.fit(x_train,y_train)\n",
    "pred=lg.predict(x_test)\n",
    "pred"
   ]
  },
  {
   "cell_type": "code",
   "execution_count": 60,
   "id": "ccdb05b0",
   "metadata": {},
   "outputs": [
    {
     "name": "stdout",
     "output_type": "stream",
     "text": [
      "0.8908899420747762\n",
      "[[8284   69]\n",
      " [ 967  175]]\n",
      "              precision    recall  f1-score   support\n",
      "\n",
      "           0       0.90      0.99      0.94      8353\n",
      "           1       0.72      0.15      0.25      1142\n",
      "\n",
      "    accuracy                           0.89      9495\n",
      "   macro avg       0.81      0.57      0.60      9495\n",
      "weighted avg       0.87      0.89      0.86      9495\n",
      "\n"
     ]
    }
   ],
   "source": [
    "print(accuracy_score(y_test,pred))\n",
    "print(confusion_matrix(y_test,pred))\n",
    "print(classification_report(y_test,pred))\n"
   ]
  },
  {
   "cell_type": "code",
   "execution_count": 61,
   "id": "3b1d7ee9",
   "metadata": {},
   "outputs": [
    {
     "data": {
      "text/plain": [
       "<AxesSubplot:>"
      ]
     },
     "execution_count": 61,
     "metadata": {},
     "output_type": "execute_result"
    },
    {
     "data": {
      "image/png": "[encoded data removed]",
      "text/plain": [
       "<Figure size 432x288 with 2 Axes>"
      ]
     },
     "metadata": {
      "needs_background": "light"
     },
     "output_type": "display_data"
    }
   ],
   "source": [
    "p=confusion_matrix(y_test,pred)\n",
    "sns.heatmap(p,annot=True)"
   ]
  },
  {
   "cell_type": "markdown",
   "id": "c81ce275",
   "metadata": {},
   "source": [
    "# Naive Byes ModelBuilding"
   ]
  },
  {
   "cell_type": "code",
   "execution_count": 62,
   "id": "62813719",
   "metadata": {},
   "outputs": [
    {
     "data": {
      "text/html": [
       "<style>#sk-container-id-1 {color: black;background-color: white;}#sk-container-id-1 pre{padding: 0;}#sk-container-id-1 div.sk-toggleable {background-color: white;}#sk-container-id-1 label.sk-toggleable__label {cursor: pointer;display: block;width: 100%;margin-bottom: 0;padding: 0.3em;box-sizing: border-box;text-align: center;}#sk-container-id-1 label.sk-toggleable__label-arrow:before {content: \"▸\";float: left;margin-right: 0.25em;color: #696969;}#sk-container-id-1 label.sk-toggleable__label-arrow:hover:before {color: black;}#sk-container-id-1 div.sk-estimator:hover label.sk-toggleable__label-arrow:before {color: black;}#sk-container-id-1 div.sk-toggleable__content {max-height: 0;max-width: 0;overflow: hidden;text-align: left;background-color: #f0f8ff;}#sk-container-id-1 div.sk-toggleable__content pre {margin: 0.2em;color: black;border-radius: 0.25em;background-color: #f0f8ff;}#sk-container-id-1 input.sk-toggleable__control:checked~div.sk-toggleable__content {max-height: 200px;max-width: 100%;overflow: auto;}#sk-container-id-1 input.sk-toggleable__control:checked~label.sk-toggleable__label-arrow:before {content: \"▾\";}#sk-container-id-1 div.sk-estimator input.sk-toggleable__control:checked~label.sk-toggleable__label {background-color: #d4ebff;}#sk-container-id-1 div.sk-label input.sk-toggleable__control:checked~label.sk-toggleable__label {background-color: #d4ebff;}#sk-container-id-1 input.sk-hidden--visually {border: 0;clip: rect(1px 1px 1px 1px);clip: rect(1px, 1px, 1px, 1px);height: 1px;margin: -1px;overflow: hidden;padding: 0;position: absolute;width: 1px;}#sk-container-id-1 div.sk-estimator {font-family: monospace;background-color: #f0f8ff;border: 1px dotted black;border-radius: 0.25em;box-sizing: border-box;margin-bottom: 0.5em;}#sk-container-id-1 div.sk-estimator:hover {background-color: #d4ebff;}#sk-container-id-1 div.sk-parallel-item::after {content: \"\";width: 100%;border-bottom: 1px solid gray;flex-grow: 1;}#sk-container-id-1 div.sk-label:hover label.sk-toggleable__label {background-color: #d4ebff;}#sk-container-id-1 div.sk-serial::before {content: \"\";position: absolute;border-left: 1px solid gray;box-sizing: border-box;top: 0;bottom: 0;left: 50%;z-index: 0;}#sk-container-id-1 div.sk-serial {display: flex;flex-direction: column;align-items: center;background-color: white;padding-right: 0.2em;padding-left: 0.2em;position: relative;}#sk-container-id-1 div.sk-item {position: relative;z-index: 1;}#sk-container-id-1 div.sk-parallel {display: flex;align-items: stretch;justify-content: center;background-color: white;position: relative;}#sk-container-id-1 div.sk-item::before, #sk-container-id-1 div.sk-parallel-item::before {content: \"\";position: absolute;border-left: 1px solid gray;box-sizing: border-box;top: 0;bottom: 0;left: 50%;z-index: -1;}#sk-container-id-1 div.sk-parallel-item {display: flex;flex-direction: column;z-index: 1;position: relative;background-color: white;}#sk-container-id-1 div.sk-parallel-item:first-child::after {align-self: flex-end;width: 50%;}#sk-container-id-1 div.sk-parallel-item:last-child::after {align-self: flex-start;width: 50%;}#sk-container-id-1 div.sk-parallel-item:only-child::after {width: 0;}#sk-container-id-1 div.sk-dashed-wrapped {border: 1px dashed gray;margin: 0 0.4em 0.5em 0.4em;box-sizing: border-box;padding-bottom: 0.4em;background-color: white;}#sk-container-id-1 div.sk-label label {font-family: monospace;font-weight: bold;display: inline-block;line-height: 1.2em;}#sk-container-id-1 div.sk-label-container {text-align: center;}#sk-container-id-1 div.sk-container {/* jupyter's `normalize.less` sets `[hidden] { display: none; }` but bootstrap.min.css set `[hidden] { display: none !important; }` so we also need the `!important` here to be able to override the default hidden behavior on the sphinx rendered scikit-learn.org. See: https://github.com/scikit-learn/scikit-learn/issues/21755 */display: inline-block !important;position: relative;}#sk-container-id-1 div.sk-text-repr-fallback {display: none;}</style><div id=\"sk-container-id-1\" class=\"sk-top-container\"><div class=\"sk-text-repr-fallback\"><pre>GaussianNB()</pre><b>In a Jupyter environment, please rerun this cell to show the HTML representation or trust the notebook. <br />On GitHub, the HTML representation is unable to render, please try loading this page with nbviewer.org.</b></div><div class=\"sk-container\" hidden><div class=\"sk-item\"><div class=\"sk-estimator sk-toggleable\"><input class=\"sk-toggleable__control sk-hidden--visually\" id=\"sk-estimator-id-1\" type=\"checkbox\" checked><label for=\"sk-estimator-id-1\" class=\"sk-toggleable__label sk-toggleable__label-arrow\">GaussianNB</label><div class=\"sk-toggleable__content\"><pre>GaussianNB()</pre></div></div></div></div></div>"
      ],
      "text/plain": [
       "GaussianNB()"
      ]
     },
     "execution_count": 62,
     "metadata": {},
     "output_type": "execute_result"
    }
   ],
   "source": [
    "nb=GaussianNB()\n",
    "nb.fit(x_train,y_train)\n"
   ]
  },
  {
   "cell_type": "code",
   "execution_count": 63,
   "id": "fa35d61e",
   "metadata": {},
   "outputs": [
    {
     "name": "stdout",
     "output_type": "stream",
     "text": [
      "0.8151658767772512\n",
      "[[7353 1000]\n",
      " [ 755  387]]\n",
      "              precision    recall  f1-score   support\n",
      "\n",
      "           0       0.91      0.88      0.89      8353\n",
      "           1       0.28      0.34      0.31      1142\n",
      "\n",
      "    accuracy                           0.82      9495\n",
      "   macro avg       0.59      0.61      0.60      9495\n",
      "weighted avg       0.83      0.82      0.82      9495\n",
      "\n"
     ]
    }
   ],
   "source": [
    "pred=nb.predict(x_test)\n",
    "print(accuracy_score(y_test,pred))\n",
    "print(confusion_matrix(y_test,pred))\n",
    "print(classification_report(y_test,pred))"
   ]
  },
  {
   "cell_type": "markdown",
   "id": "8b338a79",
   "metadata": {},
   "source": [
    "# SVC Model Building"
   ]
  },
  {
   "cell_type": "code",
   "execution_count": 64,
   "id": "009acb3f",
   "metadata": {},
   "outputs": [
    {
     "name": "stdout",
     "output_type": "stream",
     "text": [
      "0.8151658767772512\n",
      "[[7353 1000]\n",
      " [ 755  387]]\n",
      "              precision    recall  f1-score   support\n",
      "\n",
      "           0       0.91      0.88      0.89      8353\n",
      "           1       0.28      0.34      0.31      1142\n",
      "\n",
      "    accuracy                           0.82      9495\n",
      "   macro avg       0.59      0.61      0.60      9495\n",
      "weighted avg       0.83      0.82      0.82      9495\n",
      "\n"
     ]
    }
   ],
   "source": [
    "from sklearn.svm import SVR\n",
    "\n",
    "svr=SVR(kernel='rbf')\n",
    "svr.fit(x_train,y_train)\n",
    "svpr=svr.predict(x_test)\n",
    "print(accuracy_score(y_test,pred))\n",
    "print(confusion_matrix(y_test,pred))\n",
    "print(classification_report(y_test,pred))\n"
   ]
  },
  {
   "cell_type": "code",
   "execution_count": 65,
   "id": "337003b3",
   "metadata": {},
   "outputs": [
    {
     "name": "stdout",
     "output_type": "stream",
     "text": [
      "0.8151658767772512\n",
      "[[7353 1000]\n",
      " [ 755  387]]\n",
      "              precision    recall  f1-score   support\n",
      "\n",
      "           0       0.91      0.88      0.89      8353\n",
      "           1       0.28      0.34      0.31      1142\n",
      "\n",
      "    accuracy                           0.82      9495\n",
      "   macro avg       0.59      0.61      0.60      9495\n",
      "weighted avg       0.83      0.82      0.82      9495\n",
      "\n"
     ]
    }
   ],
   "source": [
    "svr=SVR(kernel='linear')\n",
    "svr.fit(x_train,y_train)\n",
    "svpr=svr.predict(x_test)\n",
    "print(accuracy_score(y_test,pred))\n",
    "print(confusion_matrix(y_test,pred))\n",
    "print(classification_report(y_test,pred))"
   ]
  },
  {
   "cell_type": "code",
   "execution_count": 66,
   "id": "e2e13dc8",
   "metadata": {},
   "outputs": [
    {
     "name": "stdout",
     "output_type": "stream",
     "text": [
      "0.8151658767772512\n",
      "[[7353 1000]\n",
      " [ 755  387]]\n",
      "              precision    recall  f1-score   support\n",
      "\n",
      "           0       0.91      0.88      0.89      8353\n",
      "           1       0.28      0.34      0.31      1142\n",
      "\n",
      "    accuracy                           0.82      9495\n",
      "   macro avg       0.59      0.61      0.60      9495\n",
      "weighted avg       0.83      0.82      0.82      9495\n",
      "\n"
     ]
    }
   ],
   "source": [
    "svr=SVR(kernel='poly')\n",
    "svr.fit(x_train,y_train)\n",
    "svpr=svr.predict(x_test)\n",
    "print(accuracy_score(y_test,pred))\n",
    "print(confusion_matrix(y_test,pred))\n",
    "print(classification_report(y_test,pred))"
   ]
  },
  {
   "cell_type": "markdown",
   "id": "d708192f",
   "metadata": {},
   "source": [
    "# Decision Tree Classifier model building:-"
   ]
  },
  {
   "cell_type": "code",
   "execution_count": 67,
   "id": "53e4c507",
   "metadata": {},
   "outputs": [
    {
     "name": "stdout",
     "output_type": "stream",
     "text": [
      "0.8397051079515534\n",
      "[[7629  724]\n",
      " [ 798  344]]\n",
      "              precision    recall  f1-score   support\n",
      "\n",
      "           0       0.91      0.91      0.91      8353\n",
      "           1       0.32      0.30      0.31      1142\n",
      "\n",
      "    accuracy                           0.84      9495\n",
      "   macro avg       0.61      0.61      0.61      9495\n",
      "weighted avg       0.84      0.84      0.84      9495\n",
      "\n"
     ]
    }
   ],
   "source": [
    "from sklearn.tree import DecisionTreeClassifier\n",
    "dtc=DecisionTreeClassifier()\n",
    "dtc.fit(x_train,y_train)\n",
    "predictdtc=dtc.predict(x_test)\n",
    "predictdtc\n",
    "print(accuracy_score(y_test,predictdtc))\n",
    "print(confusion_matrix(y_test,predictdtc))\n",
    "print(classification_report(y_test,predictdtc))"
   ]
  },
  {
   "cell_type": "code",
   "execution_count": 68,
   "id": "fdf37ef5",
   "metadata": {},
   "outputs": [],
   "source": [
    "def testpredict(j):\n",
    "    j=j.reshape(1,-1)\n",
    "    pr=dtc.predict(j)\n",
    "    print(pr)\n",
    "    if pr ==0:\n",
    "        print('No')\n",
    "    elif pr==1:\n",
    "        print('Yes')"
   ]
  },
  {
   "cell_type": "code",
   "execution_count": 69,
   "id": "fd50056e",
   "metadata": {},
   "outputs": [
    {
     "name": "stdout",
     "output_type": "stream",
     "text": [
      "[0]\n",
      "No\n"
     ]
    }
   ],
   "source": [
    "j=np.array([0,1,3,0,0,0,1,19,9,2,0,3])\n",
    "testpredict(j)"
   ]
  },
  {
   "cell_type": "code",
   "execution_count": 70,
   "id": "4bdf72e5",
   "metadata": {},
   "outputs": [
    {
     "name": "stdout",
     "output_type": "stream",
     "text": [
      "0.8395997893628225\n",
      "[[7632  721]\n",
      " [ 802  340]]\n",
      "              precision    recall  f1-score   support\n",
      "\n",
      "           0       0.90      0.91      0.91      8353\n",
      "           1       0.32      0.30      0.31      1142\n",
      "\n",
      "    accuracy                           0.84      9495\n",
      "   macro avg       0.61      0.61      0.61      9495\n",
      "weighted avg       0.83      0.84      0.84      9495\n",
      "\n"
     ]
    }
   ],
   "source": [
    "from sklearn.tree import DecisionTreeClassifier\n",
    "dtc=DecisionTreeClassifier(criterion='entropy')\n",
    "dtc.fit(x_train,y_train)\n",
    "predictdtc=dtc.predict(x_test)\n",
    "predictdtc\n",
    "print(accuracy_score(y_test,predictdtc))\n",
    "print(confusion_matrix(y_test,predictdtc))\n",
    "print(classification_report(y_test,predictdtc))"
   ]
  },
  {
   "cell_type": "code",
   "execution_count": 71,
   "id": "3c6293ca",
   "metadata": {},
   "outputs": [],
   "source": [
    "def testpredict(j):\n",
    "    j=j.reshape(1,-1)\n",
    "    pr=dtc.predict(j)\n",
    "    print(pr)\n",
    "    if pr ==0:\n",
    "        print('No')\n",
    "    elif pr==1:\n",
    "        print('Yes')"
   ]
  },
  {
   "cell_type": "code",
   "execution_count": 72,
   "id": "803d1552",
   "metadata": {},
   "outputs": [
    {
     "name": "stdout",
     "output_type": "stream",
     "text": [
      "[0]\n",
      "No\n"
     ]
    }
   ],
   "source": [
    "j=np.array([0,1,3,0,0,0,1,19,9,2,0,3])\n",
    "testpredict(j)"
   ]
  },
  {
   "cell_type": "markdown",
   "id": "2e849c12",
   "metadata": {},
   "source": [
    "# Hyper parameter tuning:-"
   ]
  },
  {
   "cell_type": "code",
   "execution_count": 75,
   "id": "7b5c2ef1",
   "metadata": {},
   "outputs": [
    {
     "name": "stdout",
     "output_type": "stream",
     "text": [
      "{'criterion': 'gini'}\n",
      "1.0\n",
      "1.0\n"
     ]
    }
   ],
   "source": [
    "from sklearn.model_selection import GridSearchCV\n",
    "grid_param={'criterion':['gini','entropy']}\n",
    "gd_sr=GridSearchCV(estimator=dtc,param_grid=grid_param,scoring='accuracy',cv=5)\n",
    "gd_sr.fit(df,y)\n",
    "best_parameters=gd_sr.best_params_\n",
    "print(best_parameters)\n",
    "best_result=gd_sr.best_score_\n",
    "print(best_result)\n",
    "print(round(best_result,2))"
   ]
  },
  {
   "cell_type": "markdown",
   "id": "a3d0b874",
   "metadata": {},
   "source": [
    "# KNeighbores Classifier model building:-"
   ]
  },
  {
   "cell_type": "code",
   "execution_count": 76,
   "id": "380ca881",
   "metadata": {},
   "outputs": [
    {
     "name": "stdout",
     "output_type": "stream",
     "text": [
      "[0 0 0 ... 0 0 0]\n"
     ]
    }
   ],
   "source": [
    "from sklearn.neighbors import KNeighborsClassifier\n",
    "\n",
    "knn=KNeighborsClassifier(n_neighbors=5)\n",
    "knn.fit(x_train,y_train)\n",
    "pr=knn.predict(x_test)\n",
    "print(pr)"
   ]
  },
  {
   "cell_type": "code",
   "execution_count": 77,
   "id": "7ecf1200",
   "metadata": {},
   "outputs": [
    {
     "name": "stdout",
     "output_type": "stream",
     "text": [
      "0.8825697735650342\n",
      "[[8165  188]\n",
      " [ 927  215]]\n",
      "              precision    recall  f1-score   support\n",
      "\n",
      "           0       0.90      0.98      0.94      8353\n",
      "           1       0.53      0.19      0.28      1142\n",
      "\n",
      "    accuracy                           0.88      9495\n",
      "   macro avg       0.72      0.58      0.61      9495\n",
      "weighted avg       0.85      0.88      0.86      9495\n",
      "\n"
     ]
    }
   ],
   "source": [
    "print(accuracy_score(y_test,pr))\n",
    "print(confusion_matrix(y_test,pr))\n",
    "print(classification_report(y_test,pr))"
   ]
  },
  {
   "cell_type": "markdown",
   "id": "ddcbae45",
   "metadata": {},
   "source": [
    "# Regularization Models:-"
   ]
  },
  {
   "cell_type": "code",
   "execution_count": 78,
   "id": "c826f55c",
   "metadata": {},
   "outputs": [
    {
     "data": {
      "text/plain": [
       "0.11458306215822234"
      ]
     },
     "execution_count": 78,
     "metadata": {},
     "output_type": "execute_result"
    }
   ],
   "source": [
    "from sklearn.linear_model import Lasso,Ridge\n",
    "ls = Lasso(alpha=0.00001)\n",
    "ls.fit(x_train,y_train)\n",
    "ls.score(x_train,y_train)\n"
   ]
  },
  {
   "cell_type": "code",
   "execution_count": 79,
   "id": "af3878e3",
   "metadata": {},
   "outputs": [
    {
     "data": {
      "text/plain": [
       "array([ 0.00172531,  0.00949027,  0.00830427, -0.00365382, -0.03478193,\n",
       "       -0.01475699, -0.03013441, -0.0042066 ,  0.0083555 , -0.01985854,\n",
       "        0.2341829 ,  0.20256666])"
      ]
     },
     "execution_count": 79,
     "metadata": {},
     "output_type": "execute_result"
    }
   ],
   "source": [
    "ls.coef_"
   ]
  },
  {
   "cell_type": "markdown",
   "id": "be9f9dd6",
   "metadata": {},
   "source": [
    "Ridge:-"
   ]
  },
  {
   "cell_type": "code",
   "execution_count": 80,
   "id": "34c5447d",
   "metadata": {},
   "outputs": [
    {
     "data": {
      "text/plain": [
       "0.11458310153671203"
      ]
     },
     "execution_count": 80,
     "metadata": {},
     "output_type": "execute_result"
    }
   ],
   "source": [
    "rd=Ridge(alpha=0.00001)\n",
    "rd.fit(x_train,y_train)\n",
    "rd.score(x_train,y_train)"
   ]
  },
  {
   "cell_type": "code",
   "execution_count": 81,
   "id": "e86b84fa",
   "metadata": {},
   "outputs": [
    {
     "data": {
      "text/plain": [
       "array([ 0.00173259,  0.00949718,  0.00830846, -0.00366259, -0.03478624,\n",
       "       -0.0147629 , -0.03014772, -0.00421675,  0.00837196, -0.01986411,\n",
       "        0.23433946,  0.20272929])"
      ]
     },
     "execution_count": 81,
     "metadata": {},
     "output_type": "execute_result"
    }
   ],
   "source": [
    "rd.coef_"
   ]
  },
  {
   "cell_type": "markdown",
   "id": "c345b6e3",
   "metadata": {},
   "source": [
    "# Auc Roc Curve-plotting"
   ]
  },
  {
   "cell_type": "code",
   "execution_count": 82,
   "id": "167b9fc7",
   "metadata": {},
   "outputs": [
    {
     "data": {
      "image/png": "[encoded data removed]",
      "text/plain": [
       "<Figure size 432x288 with 1 Axes>"
      ]
     },
     "metadata": {
      "needs_background": "light"
     },
     "output_type": "display_data"
    }
   ],
   "source": [
    "from sklearn.metrics import plot_roc_curve\n",
    "disp=plot_roc_curve(lg,x_test,y_test)\n",
    "\n",
    "plot_roc_curve(nb,x_test,y_test,ax=disp.ax_)\n",
    "plot_roc_curve(knn,x_test,y_test,ax=disp.ax_)\n",
    "plot_roc_curve(dtc,x_test,y_test,ax=disp.ax_)\n",
    "\n",
    "plt.legend(prop={'size':10},loc='lower right')\n",
    "plt.show()"
   ]
  },
  {
   "cell_type": "code",
   "execution_count": 83,
   "id": "b1187af9",
   "metadata": {},
   "outputs": [
    {
     "data": {
      "text/plain": [
       "['lgfile.obj']"
      ]
     },
     "execution_count": 83,
     "metadata": {},
     "output_type": "execute_result"
    }
   ],
   "source": [
    "#Saving the best performig model;-\n",
    "import joblib\n",
    "joblib.dump(lg,'lgfile.obj')"
   ]
  },
  {
   "cell_type": "code",
   "execution_count": null,
   "id": "ad58473c",
   "metadata": {},
   "outputs": [],
   "source": []
  }
 ],
 "metadata": {
  "kernelspec": {
   "display_name": "Python 3 (ipykernel)",
   "language": "python",
   "name": "python3"
  },
  "language_info": {
   "codemirror_mode": {
    "name": "ipython",
    "version": 3
   },
   "file_extension": ".py",
   "mimetype": "text/x-python",
   "name": "python",
   "nbconvert_exporter": "python",
   "pygments_lexer": "ipython3",
   "version": "3.9.12"
  }
 },
 "nbformat": 4,
 "nbformat_minor": 5
}
